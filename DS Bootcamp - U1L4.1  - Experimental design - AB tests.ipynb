{
 "cells": [
  {
   "cell_type": "markdown",
   "metadata": {},
   "source": [
    "### Experimental design:\n",
    "\n",
    "Designing an experiment is the only way to get  data that is perfectly fitted to the question(s) at hand. \n",
    "Properly designed experiments will have all the variables you care about, measured in the way you think is best, collected in a context that emphasizes the features you want to understand.\n",
    "\n",
    "Experimental design can be a powerful tool in your data science arsenal, and like all powerful tools, it needs to be handled the <b>right way</b>.\n",
    "\n",
    "In this lesson, we'll discuss A/B testing and how to:\n",
    "- evaluate a good experiment, \n",
    "- writing a research proposal, and \n",
    "- analytical techniques to use when an experiment yields non-normal data."
   ]
  },
  {
   "cell_type": "markdown",
   "metadata": {},
   "source": [
    "> Particularly important when it comes to actually designing your own experiment is making sure that the two groups, the A and B, are <b>as comparable as possible</b>. The only difference should be the treatment they receive."
   ]
  },
  {
   "cell_type": "markdown",
   "metadata": {},
   "source": [
    "The components of an A/B test are:\n",
    "\n",
    "1. Two versions of something whose effects will be compared.\n",
    "1. A sample, divided into two groups. \n",
    "1. A hypothesis. Your hypothesis is what you expect to happen. \n",
    "1. Outcome(s) of interest. What you expect will change as a result of using version A or version B, and how you will measure that change.\n",
    "1. Other measured variables. This includes information about the two groups that can be used to ensure they are similar ...\n"
   ]
  },
  {
   "cell_type": "markdown",
   "metadata": {},
   "source": [
    "### DRILL: Getting Testy...\n",
    "For each of the following questions, outline how you could use an A/B test to find an answer. Be sure to identify all five key components of an A/B test we outlined above.\n",
    "\n",
    "1. Does a new supplement help people sleep better?\n",
    "2. Will new uniforms help a gym's business?\n",
    "3. Will a new homepage improve my online exotic pet rental business?\n",
    "4. If I put 'please read' in the email subject will more people read my emails?"
   ]
  },
  {
   "cell_type": "markdown",
   "metadata": {},
   "source": [
    "### Q1: Does a new supplement help people sleep better?\n",
    "\n",
    "<b>1.Two versions:</b>\n",
    "\n",
    "    We need a control version: some people that don't use the new supplement, and the 'test version' that used the new product.\n",
    "\n",
    "<b>2.A sample:</b>\n",
    "\n",
    "    We need two samples, one from each of the two versions. These samples need to be chosen randomly. The samples should be similar and the only difference should be attributed to the test.\n",
    "    \n",
    "<b>3.A hypothesis:</b>   \n",
    "\n",
    "    I expect that the second group will report that they slept better than the group that did not take the new product.\n",
    "\n",
    "<b>4.An outcome:</b>\n",
    "\n",
    "    The key metric we should measure as the principal outcome is the number of hours the subjects from the second group slept. This number should be higher than the control group.\n",
    "    \n",
    "<b>5.Other measured variable:</b>    \n",
    "\n",
    "    To ensure the test result is dependent only on one variable, the new product, we should ask the subjects if they take any other medication that could help them sleep well, or if they will be in a holiday during the test period, or if they have a stressful week at work, or if the weather was rainy or not etc.\n",
    "\n",
    "With these answers we can discover if there could be any other factor that could influence our result."
   ]
  },
  {
   "cell_type": "markdown",
   "metadata": {},
   "source": [
    "### Q2: Will new uniforms help a gym's business?\n",
    "\n",
    "From the question I am guessing that the trainers will wear the new uniform. The gym should offer one free hour of training where the trainers should wear the old uniform. Subjects that participated should subscribe or not.\n",
    "The same action should be done using the new uniform and see the level of subscription.\n",
    "The bonus hour could be done, also, outside the gym, in a mall, or in a very crowded area to have exposure.\n",
    "\n",
    "One other way is: one month the trainer uses the old uniform and the other month the new uniform. The indicator should be the number of the clients that extend their monthly pass.\n",
    "\n",
    "<b>1.Two versions:</b>\n",
    "\n",
    "    We need a control version: the subjects that participated in the bonus training hour while trainers used the former uniform.\n",
    "    The test version: the subjects were exposed to the new outfit.\n",
    "\n",
    "<b>2.A sample:</b>\n",
    "\n",
    "    We need two samples, one from each of the two versions.\n",
    "    These samples need to be chosen randomly. The samples should be similar and the only difference should be attributed to the test.\n",
    "    \n",
    "<b>3.A hypothesis:</b>   \n",
    "\n",
    "    I expect that the second group that was exposed to new uniform to subscribe more than the first.\n",
    "\n",
    "<b>4.An outcome:</b>\n",
    "\n",
    "    The key metric we should measure as the principal outcome is the number of new subscriptions the subjects from the second group bought. This number should be higher than the control group.\n",
    "    \n",
    "<b>5.Other measured variable:</b>    \n",
    "\n",
    "    To ensure the test result is dependent only on one variable, the new uniform, we should ask the subjects to fill in a form about their age, gender, education, proximity to the gym, how far in time was the previous period of training etc.\n",
    "\n",
    "With these answers we can discover if there could be any other factor that could influence our result, due to the difference in the subjects from our test groups."
   ]
  },
  {
   "cell_type": "markdown",
   "metadata": {},
   "source": [
    "### Q3: Will a new homepage improve my online exotic pet rental business?\n",
    "\n",
    "1.Two versions:\n",
    "\n",
    "    We need a control version: some visitiors that use the former version of the website, and the 'test version' that used the new website.\n",
    "\n",
    "2.A sample:\n",
    "\n",
    "    We need two samples, one from each of the two versions. These samples need to be chosen randomly. The samples should be similar and the only difference should be attributed to the test.\n",
    "\n",
    "3.A hypothesis:\n",
    "\n",
    "    I expect that the second group will finish navigating the website with a request to purchase a product buy clicking the 'buy' button.\n",
    "\n",
    "4.An outcome:\n",
    "\n",
    "    The key metric we should measure as the principal outcome is the number purchase orders. This number should be higher than the control group.\n",
    "\n",
    "5.Other measured variable:\n",
    "\n",
    "    To ensure the test result is dependent only on one variable, the new website,\n",
    "- we should make sure the visitors are unique,\n",
    "- we should check the cookies to see if they visited the website before, or any other data that could classify the user\n",
    "\n",
    "\n",
    "With these answers we can discover if there could be any other factor that could influence our result.\n"
   ]
  },
  {
   "cell_type": "markdown",
   "metadata": {},
   "source": [
    "### Q4: If I put 'please read' in the email subject will more people read my emails?\n",
    "\n",
    "1.Two versions:\n",
    "\n",
    "    We need a control version: some visitiors that will receive the old format email, and the 'test version' that will receive the new email version.\n",
    "  \n",
    "\n",
    "2.A sample:\n",
    "\n",
    "    We need two samples, one from each of the two versions. These samples need to be chosen randomly. The samples should be similar and the only difference should be attributed to the test.\n",
    "\n",
    "3.A hypothesis:\n",
    "\n",
    "    I expect that the second group will have more users that opened my email than the first.\n",
    "\n",
    "4.An outcome:\n",
    "\n",
    "    The key metric we should measure as the principal outcome is the number of opened emails. This number should be higher than the control group.\n",
    "\n",
    "5.Other measured variable:\n",
    "\n",
    "    To ensure the test result is dependent only on one variable, the new format type,\n",
    "- we should make sure the subscribers are unique,\n",
    "\n",
    "\n",
    "With these answers we can discover if there could be any other factor that could influence our result.\n"
   ]
  }
 ],
 "metadata": {
  "kernelspec": {
   "display_name": "Python 3",
   "language": "python",
   "name": "python3"
  },
  "language_info": {
   "codemirror_mode": {
    "name": "ipython",
    "version": 3
   },
   "file_extension": ".py",
   "mimetype": "text/x-python",
   "name": "python",
   "nbconvert_exporter": "python",
   "pygments_lexer": "ipython3",
   "version": "3.6.4"
  }
 },
 "nbformat": 4,
 "nbformat_minor": 2
}
