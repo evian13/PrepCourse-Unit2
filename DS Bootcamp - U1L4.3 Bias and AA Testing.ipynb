{
 "cells": [
  {
   "cell_type": "markdown",
   "metadata": {},
   "source": [
    "### In experiments, <u>BIAS</u> refers to anything that causes a sample <u>to systematically differ</u> from the population. \n",
    "\n",
    "1. <u>Selection bias(sampling procedure)</u>, also called selection bias: When a sample differs from the population in some way – more women, younger, richer, more outgoing, etc – then conclusions based on that sample <b>may not</b> apply to the population. \n",
    "> Selection bias can be avoided by choosing the sample  <font color='green'><i><b>randomly</i></b></font> from the population.\n",
    "\n",
    "2. <u>Bias in assignment to conditions</u> is similar to selection bias because it also represents a failure of randomness.  The sample is supposed to be separated into groups that are similar to one another.\n",
    " Example: comparing the effect of sprinkles on liking ice cream. \n",
    "\n",
    "3. <u>Contextual bias:</u> Example: ... Unfortunately, what you don't know is that the heater was broken in group 1's room, and the temperature was 90 degrees. \n",
    "\n",
    "4. <u>Observer bias:</u> bias can come from the people running the study. The best way to avoid it is to make sure that the people who interact with study participants <b>don't expect</b> a particular result.\n"
   ]
  },
  {
   "cell_type": "markdown",
   "metadata": {},
   "source": [
    "### A/A Testing\n",
    "- means comparing the outcome of choice between two identical versions of something.\n",
    "\n",
    " - The testing method.\n",
    " - The random split method\n",
    " - Outside factors\n",
    "\n",
    "In addition, if there are no bugs or problems, the size of the difference between groups in an A/A test can be used to define a threshold for subsequent A/B testing, where differences between groups smaller than the difference observed in the A/A test are assumed to be due to chance."
   ]
  },
  {
   "cell_type": "markdown",
   "metadata": {},
   "source": [
    "## DRILL: Am I Biased?\n",
    "For each of the following scenarios, call out the potential biases in the proposed experiment. Do your best to try to discover not only the bias, but the initial design. There is plenty of room for interpretation here, so make sure to state what assumptions you're making.\n",
    "\n",
    "1. You're testing advertising emails for a bathing suit company and you test one version of the email in February and the other in May.\n",
    "- You open a clinic to treat anxiety and find that the people who visit show a higher rate of anxiety than the general population.\n",
    "- You launch a new ad billboard based campaign and see an increase in website visits in the first week.\n",
    "- You launch a loyalty program but see no change in visits in the first week."
   ]
  },
  {
   "cell_type": "markdown",
   "metadata": {},
   "source": [
    "1. You're testing advertising emails for a bathing suit company and you test one version of the email in February and the other in May.\n",
    "\n",
    "If the comapany wants to do an A/A test there is a problem with testing method. They will compare the responses of the two groups taken in different seasons. The May group should have more favourable replies since the weather is already warm.\n",
    "\n",
    "There could be also a selection bias because in winter more people are staing in home than on last month of the spring when they tend to spend time outside. The samples could have different types of people.\n",
    "\n",
    "A contextual bias is not so obious since everybody knows that weather is very different in those two months."
   ]
  },
  {
   "cell_type": "markdown",
   "metadata": {},
   "source": [
    "2.You open a clinic to treat anxiety and find that the people who visit show a higher rate of anxiety than the general population.\n",
    "\n",
    "Here is not about A/A testing as we are not comparing a test performed on the same sample.\n",
    "\n",
    "There could be a selection bias because we have to take a random sample from the population before comparison.\n",
    "\n",
    "If the members of the samples are not also similar we could run into bias in assignment to conditions.\n"
   ]
  },
  {
   "cell_type": "markdown",
   "metadata": {},
   "source": [
    "3.You launch a new ad billboard based campaign and see an increase in website visits in the first week.\n",
    "\n",
    "The billboard is seen by a lot of people. We should have a sample of people before the ad was implemented and one after.\n",
    "\n",
    "If we take the same sample to apply a A/A test there could be the risk of timing the test. There could be different meteo conditions, or a different time of day when the ad was seen or not.\n",
    "\n",
    "To avoid the bias in assignment conditions we should make sure the sample are pretty similar and randomly chosen."
   ]
  },
  {
   "cell_type": "markdown",
   "metadata": {},
   "source": [
    "4.You launch a loyalty program but see no change in visits in the first week.\n",
    "\n",
    "A loyality program is applied to current customers. If there was no change we must check if there was not an error in anouncing the program by conducting an A/A test. We have to make sure we are not falling into the random split method: to arrange the list in an specific order and after splitting it to discover that the sample is biased.\n",
    "\n",
    "We have to make sure that who is conducting the test is not already expecting a result thus selecting candidates which are less likely to join the new program.\n",
    "\n",
    "Paying also attention to randomization we run away from choosing more members that have more of the same features (are reacher or are more men). We avoid the sampling bias."
   ]
  },
  {
   "cell_type": "code",
   "execution_count": null,
   "metadata": {},
   "outputs": [],
   "source": []
  }
 ],
 "metadata": {
  "anaconda-cloud": {},
  "kernelspec": {
   "display_name": "Python [conda root]",
   "language": "python",
   "name": "conda-root-py"
  },
  "language_info": {
   "codemirror_mode": {
    "name": "ipython",
    "version": 3
   },
   "file_extension": ".py",
   "mimetype": "text/x-python",
   "name": "python",
   "nbconvert_exporter": "python",
   "pygments_lexer": "ipython3",
   "version": "3.5.4"
  },
  "latex_envs": {
   "LaTeX_envs_menu_present": true,
   "autocomplete": true,
   "bibliofile": "biblio.bib",
   "cite_by": "apalike",
   "current_citInitial": 1,
   "eqLabelWithNumbers": true,
   "eqNumInitial": 1,
   "hotkeys": {
    "equation": "Ctrl-E",
    "itemize": "Ctrl-I"
   },
   "labels_anchors": false,
   "latex_user_defs": false,
   "report_style_numbering": false,
   "user_envs_cfg": false
  }
 },
 "nbformat": 4,
 "nbformat_minor": 2
}
