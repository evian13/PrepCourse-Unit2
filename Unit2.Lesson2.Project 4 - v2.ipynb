{
 "cells": [
  {
   "cell_type": "markdown",
   "metadata": {},
   "source": [
    "## Unit 2 / Lesson 2 / Project 4\n",
    "## Challenge - What Do You See?\n",
    "Let's go out into the world and generate some beautiful visuals. Pick a data source from this aggregation, load the data into a pandas data frame, and generate a series of visuals around that data using pyplot.\n",
    "\n",
    "Each visualization should be accompanied by 2-3 sentences describing what you think is revealed by this representation. Generate at least <b><u>four</u></b> different visuals, and be sure to use different types as well as the subplot functionality discussed above. And remember: clean and elegant visuals are key to telling a coherent story.\n",
    "\n",
    "Link: https://www.kaggle.com/jtrofe/beer-recipes\n"
   ]
  },
  {
   "cell_type": "code",
   "execution_count": 2,
   "metadata": {
    "collapsed": false
   },
   "outputs": [],
   "source": [
    "import numpy as np\n",
    "import pandas as pd\n",
    "import matplotlib.pyplot as plt\n",
    "%matplotlib inline"
   ]
  },
  {
   "cell_type": "code",
   "execution_count": 34,
   "metadata": {
    "collapsed": false
   },
   "outputs": [],
   "source": [
    "df = pd.read_csv('recipeData.csv', engine='python' ,nrows = 1000 )"
   ]
  },
  {
   "cell_type": "markdown",
   "metadata": {},
   "source": [
    "\n",
    "Some useful columns:\n",
    "OG (Original gravity), \n",
    "FG (Final gravity), \n",
    "ABV (Alcohol by volume), \n",
    "IBU (International bitterness units) and \n",
    "Color."
   ]
  },
  {
   "cell_type": "code",
   "execution_count": 35,
   "metadata": {
    "collapsed": false,
    "scrolled": true
   },
   "outputs": [
    {
     "data": {
      "text/html": [
       "<div>\n",
       "<table border=\"1\" class=\"dataframe\">\n",
       "  <thead>\n",
       "    <tr style=\"text-align: right;\">\n",
       "      <th></th>\n",
       "      <th>BeerID</th>\n",
       "      <th>Name</th>\n",
       "      <th>URL</th>\n",
       "      <th>Style</th>\n",
       "      <th>StyleID</th>\n",
       "      <th>Size(L)</th>\n",
       "      <th>OG</th>\n",
       "      <th>FG</th>\n",
       "      <th>ABV</th>\n",
       "      <th>IBU</th>\n",
       "      <th>...</th>\n",
       "      <th>BoilTime</th>\n",
       "      <th>BoilGravity</th>\n",
       "      <th>Efficiency</th>\n",
       "      <th>MashThickness</th>\n",
       "      <th>SugarScale</th>\n",
       "      <th>BrewMethod</th>\n",
       "      <th>PitchRate</th>\n",
       "      <th>PrimaryTemp</th>\n",
       "      <th>PrimingMethod</th>\n",
       "      <th>PrimingAmount</th>\n",
       "    </tr>\n",
       "  </thead>\n",
       "  <tbody>\n",
       "    <tr>\n",
       "      <th>0</th>\n",
       "      <td>1</td>\n",
       "      <td>Vanilla Cream Ale</td>\n",
       "      <td>/homebrew/recipe/view/1633/vanilla-cream-ale</td>\n",
       "      <td>Cream Ale</td>\n",
       "      <td>45</td>\n",
       "      <td>21.77</td>\n",
       "      <td>1.055</td>\n",
       "      <td>1.013</td>\n",
       "      <td>5.48</td>\n",
       "      <td>17.65</td>\n",
       "      <td>...</td>\n",
       "      <td>75</td>\n",
       "      <td>1.038</td>\n",
       "      <td>70.0</td>\n",
       "      <td>NaN</td>\n",
       "      <td>Specific Gravity</td>\n",
       "      <td>All Grain</td>\n",
       "      <td>NaN</td>\n",
       "      <td>17.78</td>\n",
       "      <td>corn sugar</td>\n",
       "      <td>4.5 oz</td>\n",
       "    </tr>\n",
       "    <tr>\n",
       "      <th>1</th>\n",
       "      <td>2</td>\n",
       "      <td>Southern Tier Pumking clone</td>\n",
       "      <td>/homebrew/recipe/view/16367/southern-tier-pumk...</td>\n",
       "      <td>Holiday/Winter Special Spiced Beer</td>\n",
       "      <td>85</td>\n",
       "      <td>20.82</td>\n",
       "      <td>1.083</td>\n",
       "      <td>1.021</td>\n",
       "      <td>8.16</td>\n",
       "      <td>60.65</td>\n",
       "      <td>...</td>\n",
       "      <td>60</td>\n",
       "      <td>1.070</td>\n",
       "      <td>70.0</td>\n",
       "      <td>NaN</td>\n",
       "      <td>Specific Gravity</td>\n",
       "      <td>All Grain</td>\n",
       "      <td>NaN</td>\n",
       "      <td>NaN</td>\n",
       "      <td>NaN</td>\n",
       "      <td>NaN</td>\n",
       "    </tr>\n",
       "    <tr>\n",
       "      <th>2</th>\n",
       "      <td>3</td>\n",
       "      <td>Zombie Dust Clone - EXTRACT</td>\n",
       "      <td>/homebrew/recipe/view/5920/zombie-dust-clone-e...</td>\n",
       "      <td>American IPA</td>\n",
       "      <td>7</td>\n",
       "      <td>18.93</td>\n",
       "      <td>1.063</td>\n",
       "      <td>1.018</td>\n",
       "      <td>5.91</td>\n",
       "      <td>59.25</td>\n",
       "      <td>...</td>\n",
       "      <td>60</td>\n",
       "      <td>NaN</td>\n",
       "      <td>70.0</td>\n",
       "      <td>NaN</td>\n",
       "      <td>Specific Gravity</td>\n",
       "      <td>extract</td>\n",
       "      <td>NaN</td>\n",
       "      <td>NaN</td>\n",
       "      <td>NaN</td>\n",
       "      <td>NaN</td>\n",
       "    </tr>\n",
       "    <tr>\n",
       "      <th>3</th>\n",
       "      <td>4</td>\n",
       "      <td>Zombie Dust Clone - ALL GRAIN</td>\n",
       "      <td>/homebrew/recipe/view/5916/zombie-dust-clone-a...</td>\n",
       "      <td>American IPA</td>\n",
       "      <td>7</td>\n",
       "      <td>22.71</td>\n",
       "      <td>1.061</td>\n",
       "      <td>1.017</td>\n",
       "      <td>5.80</td>\n",
       "      <td>54.48</td>\n",
       "      <td>...</td>\n",
       "      <td>60</td>\n",
       "      <td>NaN</td>\n",
       "      <td>70.0</td>\n",
       "      <td>NaN</td>\n",
       "      <td>Specific Gravity</td>\n",
       "      <td>All Grain</td>\n",
       "      <td>NaN</td>\n",
       "      <td>NaN</td>\n",
       "      <td>NaN</td>\n",
       "      <td>NaN</td>\n",
       "    </tr>\n",
       "    <tr>\n",
       "      <th>4</th>\n",
       "      <td>5</td>\n",
       "      <td>Bakke Brygg Belgisk Blonde 50 l</td>\n",
       "      <td>/homebrew/recipe/view/89534/bakke-brygg-belgis...</td>\n",
       "      <td>Belgian Blond Ale</td>\n",
       "      <td>20</td>\n",
       "      <td>50.00</td>\n",
       "      <td>1.060</td>\n",
       "      <td>1.010</td>\n",
       "      <td>6.48</td>\n",
       "      <td>17.84</td>\n",
       "      <td>...</td>\n",
       "      <td>90</td>\n",
       "      <td>1.050</td>\n",
       "      <td>72.0</td>\n",
       "      <td>NaN</td>\n",
       "      <td>Specific Gravity</td>\n",
       "      <td>All Grain</td>\n",
       "      <td>NaN</td>\n",
       "      <td>19.00</td>\n",
       "      <td>Sukkerlake</td>\n",
       "      <td>6-7 g sukker/l</td>\n",
       "    </tr>\n",
       "  </tbody>\n",
       "</table>\n",
       "<p>5 rows × 22 columns</p>\n",
       "</div>"
      ],
      "text/plain": [
       "   BeerID                             Name  \\\n",
       "0       1                Vanilla Cream Ale   \n",
       "1       2      Southern Tier Pumking clone   \n",
       "2       3      Zombie Dust Clone - EXTRACT   \n",
       "3       4    Zombie Dust Clone - ALL GRAIN   \n",
       "4       5  Bakke Brygg Belgisk Blonde 50 l   \n",
       "\n",
       "                                                 URL  \\\n",
       "0       /homebrew/recipe/view/1633/vanilla-cream-ale   \n",
       "1  /homebrew/recipe/view/16367/southern-tier-pumk...   \n",
       "2  /homebrew/recipe/view/5920/zombie-dust-clone-e...   \n",
       "3  /homebrew/recipe/view/5916/zombie-dust-clone-a...   \n",
       "4  /homebrew/recipe/view/89534/bakke-brygg-belgis...   \n",
       "\n",
       "                                Style  StyleID  Size(L)     OG     FG   ABV  \\\n",
       "0                           Cream Ale       45    21.77  1.055  1.013  5.48   \n",
       "1  Holiday/Winter Special Spiced Beer       85    20.82  1.083  1.021  8.16   \n",
       "2                        American IPA        7    18.93  1.063  1.018  5.91   \n",
       "3                        American IPA        7    22.71  1.061  1.017  5.80   \n",
       "4                   Belgian Blond Ale       20    50.00  1.060  1.010  6.48   \n",
       "\n",
       "     IBU       ...        BoilTime  BoilGravity  Efficiency  MashThickness  \\\n",
       "0  17.65       ...              75        1.038        70.0            NaN   \n",
       "1  60.65       ...              60        1.070        70.0            NaN   \n",
       "2  59.25       ...              60          NaN        70.0            NaN   \n",
       "3  54.48       ...              60          NaN        70.0            NaN   \n",
       "4  17.84       ...              90        1.050        72.0            NaN   \n",
       "\n",
       "         SugarScale  BrewMethod PitchRate PrimaryTemp  PrimingMethod  \\\n",
       "0  Specific Gravity   All Grain       NaN       17.78     corn sugar   \n",
       "1  Specific Gravity   All Grain       NaN         NaN            NaN   \n",
       "2  Specific Gravity     extract       NaN         NaN            NaN   \n",
       "3  Specific Gravity   All Grain       NaN         NaN            NaN   \n",
       "4  Specific Gravity   All Grain       NaN       19.00     Sukkerlake   \n",
       "\n",
       "    PrimingAmount  \n",
       "0          4.5 oz  \n",
       "1             NaN  \n",
       "2             NaN  \n",
       "3             NaN  \n",
       "4  6-7 g sukker/l  \n",
       "\n",
       "[5 rows x 22 columns]"
      ]
     },
     "execution_count": 35,
     "metadata": {},
     "output_type": "execute_result"
    }
   ],
   "source": [
    "df.head()"
   ]
  },
  {
   "cell_type": "code",
   "execution_count": 22,
   "metadata": {
    "collapsed": false,
    "scrolled": true
   },
   "outputs": [
    {
     "data": {
      "text/plain": [
       "['BeerID',\n",
       " 'Name',\n",
       " 'URL',\n",
       " 'Style',\n",
       " 'StyleID',\n",
       " 'Size(L)',\n",
       " 'OG',\n",
       " 'FG',\n",
       " 'ABV',\n",
       " 'IBU',\n",
       " 'Color',\n",
       " 'BoilSize',\n",
       " 'BoilTime',\n",
       " 'BoilGravity',\n",
       " 'Efficiency',\n",
       " 'MashThickness',\n",
       " 'SugarScale',\n",
       " 'BrewMethod',\n",
       " 'PitchRate',\n",
       " 'PrimaryTemp',\n",
       " 'PrimingMethod',\n",
       " 'PrimingAmount']"
      ]
     },
     "execution_count": 22,
     "metadata": {},
     "output_type": "execute_result"
    }
   ],
   "source": [
    "c = list(df.columns.values)\n",
    "c"
   ]
  },
  {
   "cell_type": "code",
   "execution_count": 23,
   "metadata": {
    "collapsed": false,
    "scrolled": true
   },
   "outputs": [
    {
     "name": "stdout",
     "output_type": "stream",
     "text": [
      "<class 'pandas.core.frame.DataFrame'>\n",
      "RangeIndex: 1000 entries, 0 to 999\n",
      "Data columns (total 22 columns):\n",
      "BeerID           1000 non-null int64\n",
      "Name             1000 non-null object\n",
      "URL              1000 non-null object\n",
      "Style            993 non-null object\n",
      "StyleID          1000 non-null int64\n",
      "Size(L)          1000 non-null float64\n",
      "OG               1000 non-null float64\n",
      "FG               1000 non-null float64\n",
      "ABV              1000 non-null float64\n",
      "IBU              1000 non-null float64\n",
      "Color            1000 non-null float64\n",
      "BoilSize         1000 non-null float64\n",
      "BoilTime         1000 non-null int64\n",
      "BoilGravity      649 non-null float64\n",
      "Efficiency       1000 non-null float64\n",
      "MashThickness    325 non-null float64\n",
      "SugarScale       1000 non-null object\n",
      "BrewMethod       1000 non-null object\n",
      "PitchRate        423 non-null float64\n",
      "PrimaryTemp      564 non-null float64\n",
      "PrimingMethod    264 non-null object\n",
      "PrimingAmount    188 non-null object\n",
      "dtypes: float64(12), int64(3), object(7)\n",
      "memory usage: 172.0+ KB\n",
      "None\n"
     ]
    }
   ],
   "source": [
    "print(df.info())"
   ]
  },
  {
   "cell_type": "code",
   "execution_count": 24,
   "metadata": {
    "collapsed": false,
    "scrolled": true
   },
   "outputs": [
    {
     "name": "stderr",
     "output_type": "stream",
     "text": [
      "C:\\Anaconda3\\lib\\site-packages\\numpy\\lib\\function_base.py:3834: RuntimeWarning: Invalid value encountered in percentile\n",
      "  RuntimeWarning)\n"
     ]
    },
    {
     "data": {
      "text/html": [
       "<div>\n",
       "<table border=\"1\" class=\"dataframe\">\n",
       "  <thead>\n",
       "    <tr style=\"text-align: right;\">\n",
       "      <th></th>\n",
       "      <th>BeerID</th>\n",
       "      <th>StyleID</th>\n",
       "      <th>Size(L)</th>\n",
       "      <th>OG</th>\n",
       "      <th>FG</th>\n",
       "      <th>ABV</th>\n",
       "      <th>IBU</th>\n",
       "      <th>Color</th>\n",
       "      <th>BoilSize</th>\n",
       "      <th>BoilTime</th>\n",
       "      <th>BoilGravity</th>\n",
       "      <th>Efficiency</th>\n",
       "      <th>MashThickness</th>\n",
       "      <th>PitchRate</th>\n",
       "      <th>PrimaryTemp</th>\n",
       "    </tr>\n",
       "  </thead>\n",
       "  <tbody>\n",
       "    <tr>\n",
       "      <th>count</th>\n",
       "      <td>1000.000000</td>\n",
       "      <td>1000.000000</td>\n",
       "      <td>1000.000000</td>\n",
       "      <td>1000.000000</td>\n",
       "      <td>1000.000000</td>\n",
       "      <td>1000.000000</td>\n",
       "      <td>1000.000000</td>\n",
       "      <td>1000.000000</td>\n",
       "      <td>1000.000000</td>\n",
       "      <td>1000.000000</td>\n",
       "      <td>649.000000</td>\n",
       "      <td>1000.000000</td>\n",
       "      <td>325.000000</td>\n",
       "      <td>423.000000</td>\n",
       "      <td>564.000000</td>\n",
       "    </tr>\n",
       "    <tr>\n",
       "      <th>mean</th>\n",
       "      <td>500.500000</td>\n",
       "      <td>68.236000</td>\n",
       "      <td>27.125090</td>\n",
       "      <td>1.292484</td>\n",
       "      <td>1.055776</td>\n",
       "      <td>6.463650</td>\n",
       "      <td>45.293240</td>\n",
       "      <td>13.441060</td>\n",
       "      <td>31.191530</td>\n",
       "      <td>67.134000</td>\n",
       "      <td>1.238039</td>\n",
       "      <td>69.509100</td>\n",
       "      <td>1.950520</td>\n",
       "      <td>0.806383</td>\n",
       "      <td>18.789326</td>\n",
       "    </tr>\n",
       "    <tr>\n",
       "      <th>std</th>\n",
       "      <td>288.819436</td>\n",
       "      <td>58.472312</td>\n",
       "      <td>80.427702</td>\n",
       "      <td>1.917182</td>\n",
       "      <td>0.351000</td>\n",
       "      <td>2.101789</td>\n",
       "      <td>44.549142</td>\n",
       "      <td>11.804651</td>\n",
       "      <td>83.038509</td>\n",
       "      <td>18.217682</td>\n",
       "      <td>1.500724</td>\n",
       "      <td>12.146326</td>\n",
       "      <td>1.009365</td>\n",
       "      <td>0.343276</td>\n",
       "      <td>2.927601</td>\n",
       "    </tr>\n",
       "    <tr>\n",
       "      <th>min</th>\n",
       "      <td>1.000000</td>\n",
       "      <td>1.000000</td>\n",
       "      <td>2.270000</td>\n",
       "      <td>1.006000</td>\n",
       "      <td>1.000000</td>\n",
       "      <td>0.300000</td>\n",
       "      <td>0.000000</td>\n",
       "      <td>0.000000</td>\n",
       "      <td>2.270000</td>\n",
       "      <td>0.000000</td>\n",
       "      <td>1.006000</td>\n",
       "      <td>0.000000</td>\n",
       "      <td>0.750000</td>\n",
       "      <td>0.350000</td>\n",
       "      <td>8.890000</td>\n",
       "    </tr>\n",
       "    <tr>\n",
       "      <th>25%</th>\n",
       "      <td>250.750000</td>\n",
       "      <td>10.000000</td>\n",
       "      <td>18.930000</td>\n",
       "      <td>1.052000</td>\n",
       "      <td>1.012000</td>\n",
       "      <td>5.177500</td>\n",
       "      <td>23.022500</td>\n",
       "      <td>5.207500</td>\n",
       "      <td>18.930000</td>\n",
       "      <td>60.000000</td>\n",
       "      <td>NaN</td>\n",
       "      <td>70.000000</td>\n",
       "      <td>NaN</td>\n",
       "      <td>NaN</td>\n",
       "      <td>NaN</td>\n",
       "    </tr>\n",
       "    <tr>\n",
       "      <th>50%</th>\n",
       "      <td>500.500000</td>\n",
       "      <td>50.500000</td>\n",
       "      <td>20.820000</td>\n",
       "      <td>1.060000</td>\n",
       "      <td>1.014000</td>\n",
       "      <td>5.955000</td>\n",
       "      <td>35.145000</td>\n",
       "      <td>8.455000</td>\n",
       "      <td>26.500000</td>\n",
       "      <td>60.000000</td>\n",
       "      <td>NaN</td>\n",
       "      <td>70.000000</td>\n",
       "      <td>NaN</td>\n",
       "      <td>NaN</td>\n",
       "      <td>NaN</td>\n",
       "    </tr>\n",
       "    <tr>\n",
       "      <th>75%</th>\n",
       "      <td>750.250000</td>\n",
       "      <td>120.000000</td>\n",
       "      <td>22.710000</td>\n",
       "      <td>1.072000</td>\n",
       "      <td>1.018000</td>\n",
       "      <td>7.182500</td>\n",
       "      <td>56.627500</td>\n",
       "      <td>17.602500</td>\n",
       "      <td>28.500000</td>\n",
       "      <td>90.000000</td>\n",
       "      <td>NaN</td>\n",
       "      <td>75.000000</td>\n",
       "      <td>NaN</td>\n",
       "      <td>NaN</td>\n",
       "      <td>NaN</td>\n",
       "    </tr>\n",
       "    <tr>\n",
       "      <th>max</th>\n",
       "      <td>1000.000000</td>\n",
       "      <td>176.000000</td>\n",
       "      <td>2200.000000</td>\n",
       "      <td>25.597200</td>\n",
       "      <td>5.830820</td>\n",
       "      <td>27.120000</td>\n",
       "      <td>767.470000</td>\n",
       "      <td>53.100000</td>\n",
       "      <td>2200.000000</td>\n",
       "      <td>180.000000</td>\n",
       "      <td>17.600000</td>\n",
       "      <td>100.000000</td>\n",
       "      <td>6.700000</td>\n",
       "      <td>2.000000</td>\n",
       "      <td>32.220000</td>\n",
       "    </tr>\n",
       "  </tbody>\n",
       "</table>\n",
       "</div>"
      ],
      "text/plain": [
       "            BeerID      StyleID      Size(L)           OG           FG  \\\n",
       "count  1000.000000  1000.000000  1000.000000  1000.000000  1000.000000   \n",
       "mean    500.500000    68.236000    27.125090     1.292484     1.055776   \n",
       "std     288.819436    58.472312    80.427702     1.917182     0.351000   \n",
       "min       1.000000     1.000000     2.270000     1.006000     1.000000   \n",
       "25%     250.750000    10.000000    18.930000     1.052000     1.012000   \n",
       "50%     500.500000    50.500000    20.820000     1.060000     1.014000   \n",
       "75%     750.250000   120.000000    22.710000     1.072000     1.018000   \n",
       "max    1000.000000   176.000000  2200.000000    25.597200     5.830820   \n",
       "\n",
       "               ABV          IBU        Color     BoilSize     BoilTime  \\\n",
       "count  1000.000000  1000.000000  1000.000000  1000.000000  1000.000000   \n",
       "mean      6.463650    45.293240    13.441060    31.191530    67.134000   \n",
       "std       2.101789    44.549142    11.804651    83.038509    18.217682   \n",
       "min       0.300000     0.000000     0.000000     2.270000     0.000000   \n",
       "25%       5.177500    23.022500     5.207500    18.930000    60.000000   \n",
       "50%       5.955000    35.145000     8.455000    26.500000    60.000000   \n",
       "75%       7.182500    56.627500    17.602500    28.500000    90.000000   \n",
       "max      27.120000   767.470000    53.100000  2200.000000   180.000000   \n",
       "\n",
       "       BoilGravity   Efficiency  MashThickness   PitchRate  PrimaryTemp  \n",
       "count   649.000000  1000.000000     325.000000  423.000000   564.000000  \n",
       "mean      1.238039    69.509100       1.950520    0.806383    18.789326  \n",
       "std       1.500724    12.146326       1.009365    0.343276     2.927601  \n",
       "min       1.006000     0.000000       0.750000    0.350000     8.890000  \n",
       "25%            NaN    70.000000            NaN         NaN          NaN  \n",
       "50%            NaN    70.000000            NaN         NaN          NaN  \n",
       "75%            NaN    75.000000            NaN         NaN          NaN  \n",
       "max      17.600000   100.000000       6.700000    2.000000    32.220000  "
      ]
     },
     "execution_count": 24,
     "metadata": {},
     "output_type": "execute_result"
    }
   ],
   "source": [
    "df.describe()"
   ]
  },
  {
   "cell_type": "code",
   "execution_count": 25,
   "metadata": {
    "collapsed": false
   },
   "outputs": [
    {
     "data": {
      "text/plain": [
       "Specific Gravity    985\n",
       "Plato                15\n",
       "Name: SugarScale, dtype: int64"
      ]
     },
     "execution_count": 25,
     "metadata": {},
     "output_type": "execute_result"
    }
   ],
   "source": [
    "# What kind of data is in the column:\n",
    "df['SugarScale'].value_counts()"
   ]
  },
  {
   "cell_type": "code",
   "execution_count": 43,
   "metadata": {
    "collapsed": false,
    "scrolled": true
   },
   "outputs": [
    {
     "data": {
      "text/plain": [
       "60     646\n",
       "90     244\n",
       "75      26\n",
       "70      19\n",
       "30      13\n",
       "1        7\n",
       "40       7\n",
       "120      6\n",
       "0        5\n",
       "15       5\n",
       "45       4\n",
       "50       3\n",
       "180      3\n",
       "80       3\n",
       "65       2\n",
       "170      1\n",
       "62       1\n",
       "20       1\n",
       "10       1\n",
       "5        1\n",
       "100      1\n",
       "55       1\n",
       "Name: BoilTime, dtype: int64"
      ]
     },
     "execution_count": 43,
     "metadata": {},
     "output_type": "execute_result"
    }
   ],
   "source": [
    "df['BoilTime'].value_counts()"
   ]
  },
  {
   "cell_type": "markdown",
   "metadata": {},
   "source": [
    "# Histogram"
   ]
  },
  {
   "cell_type": "code",
   "execution_count": 42,
   "metadata": {
    "collapsed": false,
    "scrolled": true
   },
   "outputs": [
    {
     "data": {
      "image/png": "[encoded data removed]",
      "text/plain": [
       "<matplotlib.figure.Figure at 0x1cf06842c50>"
      ]
     },
     "metadata": {},
     "output_type": "display_data"
    }
   ],
   "source": [
    "df['BoilTime'].plot.hist(bins=40)\n",
    "plt.xlim([-0.1,200])\n",
    "plt.show()"
   ]
  },
  {
   "cell_type": "markdown",
   "metadata": {},
   "source": [
    "From the 1000 samples, about 65% boil at after 60 units of time (might be minutes). 24% boil after 90 units of time."
   ]
  },
  {
   "cell_type": "markdown",
   "metadata": {},
   "source": [
    "# Scatter plot"
   ]
  },
  {
   "cell_type": "code",
   "execution_count": 44,
   "metadata": {
    "collapsed": false,
    "scrolled": true
   },
   "outputs": [
    {
     "data": {
      "image/png": "[encoded data removed]",
      "text/plain": [
       "<matplotlib.figure.Figure at 0x1cf06413dd8>"
      ]
     },
     "metadata": {},
     "output_type": "display_data"
    }
   ],
   "source": [
    "plt.scatter(x=df['BoilTime'], y=df['OG'])\n",
    "plt.show()"
   ]
  },
  {
   "cell_type": "markdown",
   "metadata": {},
   "source": [
    "We cannot say we have good correlation between these two features of the beers. There is a positive correlation between some as they evolve in the same direction."
   ]
  },
  {
   "cell_type": "markdown",
   "metadata": {},
   "source": [
    "# Boxplot"
   ]
  },
  {
   "cell_type": "code",
   "execution_count": 49,
   "metadata": {
    "collapsed": false,
    "scrolled": true
   },
   "outputs": [
    {
     "data": {
      "image/png": "[encoded data removed]",
      "text/plain": [
       "<matplotlib.figure.Figure at 0x1cf0645b358>"
      ]
     },
     "metadata": {},
     "output_type": "display_data"
    }
   ],
   "source": [
    "plt.boxplot(df['BoilSize'])\n",
    "plt.show()"
   ]
  },
  {
   "cell_type": "code",
   "execution_count": 54,
   "metadata": {
    "collapsed": false,
    "scrolled": true
   },
   "outputs": [
    {
     "data": {
      "image/png": "[encoded data removed]",
      "text/plain": [
       "<matplotlib.figure.Figure at 0x1cf066f1240>"
      ]
     },
     "metadata": {},
     "output_type": "display_data"
    }
   ],
   "source": [
    "# ABV (Alcohol by volume):\n",
    "plt.boxplot(df['ABV'])\n",
    "plt.show()"
   ]
  },
  {
   "cell_type": "markdown",
   "metadata": {},
   "source": [
    "The data has some outliers, but it looks like a normal distribution skewed to the left.\n",
    "\n",
    "I plot the histogram below to reveal more details."
   ]
  },
  {
   "cell_type": "code",
   "execution_count": 68,
   "metadata": {
    "collapsed": false
   },
   "outputs": [
    {
     "data": {
      "image/png": "[encoded data removed]",
      "text/plain": [
       "<matplotlib.figure.Figure at 0x1cf0652c4e0>"
      ]
     },
     "metadata": {},
     "output_type": "display_data"
    }
   ],
   "source": [
    "df['ABV'].plot.hist(bins=40)\n",
    "plt.xlim([-0.1,35])\n",
    "plt.xlabel('ABV (Alcohol by volume)')\n",
    "plt.show()"
   ]
  },
  {
   "cell_type": "markdown",
   "metadata": {},
   "source": [
    "# Subplots"
   ]
  },
  {
   "cell_type": "code",
   "execution_count": 61,
   "metadata": {
    "collapsed": false,
    "scrolled": true
   },
   "outputs": [
    {
     "data": {
      "text/plain": [
       "<matplotlib.text.Text at 0x1cf0694b8d0>"
      ]
     },
     "execution_count": 61,
     "metadata": {},
     "output_type": "execute_result"
    },
    {
     "data": {
      "image/png": "[encoded data removed]",
      "text/plain": [
       "<matplotlib.figure.Figure at 0x1cf0685cc88>"
      ]
     },
     "metadata": {},
     "output_type": "display_data"
    }
   ],
   "source": [
    "plt.figure(figsize=(10, 5))\n",
    "\n",
    "plt.subplot(1, 2, 1)\n",
    "plt.plot(df['Efficiency'], color='red')\n",
    "plt.ylabel('Values')\n",
    "plt.xlabel('Index order')\n",
    "plt.title('Beer Efficiency')\n",
    "\n",
    "plt.subplot(1, 2, 2)\n",
    "plt.plot(df['FG'], color='green') #FG (Final gravity)\n",
    "plt.ylim(0.99,1.2)\n",
    "plt.ylabel('Values')\n",
    "plt.title('Final gravity')"
   ]
  },
  {
   "cell_type": "code",
   "execution_count": 58,
   "metadata": {
    "collapsed": false,
    "scrolled": true
   },
   "outputs": [
    {
     "data": {
      "text/plain": [
       "1.01300    107\n",
       "1.01500     92\n",
       "1.01400     90\n",
       "1.01200     85\n",
       "1.01100     70\n",
       "1.01700     63\n",
       "1.01800     59\n",
       "1.01600     59\n",
       "1.01000     58\n",
       "1.01900     42\n",
       "1.00900     33\n",
       "1.02100     31\n",
       "1.02000     30\n",
       "1.00800     28\n",
       "1.02200     18\n",
       "1.02500     18\n",
       "1.02400     15\n",
       "1.02300     13\n",
       "1.00700     12\n",
       "1.02700      9\n",
       "1.02600      8\n",
       "1.00500      7\n",
       "1.00600      6\n",
       "1.03100      6\n",
       "1.00200      4\n",
       "1.00400      4\n",
       "1.02900      4\n",
       "1.00100      2\n",
       "1.03300      2\n",
       "2.58355      1\n",
       "4.59445      1\n",
       "2.90855      1\n",
       "3.48530      1\n",
       "5.35369      1\n",
       "1.00000      1\n",
       "1.03200      1\n",
       "5.83082      1\n",
       "4.33412      1\n",
       "2.83333      1\n",
       "1.04700      1\n",
       "3.75321      1\n",
       "1.03000      1\n",
       "2.69633      1\n",
       "1.00300      1\n",
       "1.03800      1\n",
       "1.03400      1\n",
       "2.64942      1\n",
       "3.10738      1\n",
       "1.02800      1\n",
       "3.61072      1\n",
       "4.48111      1\n",
       "1.03900      1\n",
       "1.03600      1\n",
       "3.71451      1\n",
       "Name: FG, dtype: int64"
      ]
     },
     "execution_count": 58,
     "metadata": {},
     "output_type": "execute_result"
    }
   ],
   "source": [
    "df['FG'].value_counts()"
   ]
  },
  {
   "cell_type": "code",
   "execution_count": null,
   "metadata": {
    "collapsed": true
   },
   "outputs": [],
   "source": []
  }
 ],
 "metadata": {
  "anaconda-cloud": {},
  "kernelspec": {
   "display_name": "Python [conda root]",
   "language": "python",
   "name": "conda-root-py"
  },
  "language_info": {
   "codemirror_mode": {
    "name": "ipython",
    "version": 3
   },
   "file_extension": ".py",
   "mimetype": "text/x-python",
   "name": "python",
   "nbconvert_exporter": "python",
   "pygments_lexer": "ipython3",
   "version": "3.5.2"
  },
  "latex_envs": {
   "LaTeX_envs_menu_present": true,
   "autocomplete": true,
   "bibliofile": "biblio.bib",
   "cite_by": "apalike",
   "current_citInitial": 1,
   "eqLabelWithNumbers": true,
   "eqNumInitial": 1,
   "hotkeys": {
    "equation": "Ctrl-E",
    "itemize": "Ctrl-I"
   },
   "labels_anchors": false,
   "latex_user_defs": false,
   "report_style_numbering": false,
   "user_envs_cfg": false
  }
 },
 "nbformat": 4,
 "nbformat_minor": 1
}
