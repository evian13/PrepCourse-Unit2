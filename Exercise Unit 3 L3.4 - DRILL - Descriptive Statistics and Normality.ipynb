{
 "cells": [
  {
   "cell_type": "markdown",
   "metadata": {},
   "source": [
    "For each distribution: <a class=\"anchor\" id=\"top\"></a>\n",
    "\n",
    "1. Generate a random variable with 100 datapoints using the code distributionvar = np.random.distributionname([arguments], 100), replacing distributionvar with an appropriate variable name and distributionname with the name of the distribution you’ve chosen, and filling in the empty space in the parentheses with your chosen values for the appropriate parameters. If you feel uncertain about how to do this, go back to the “Other Distributions” assignment for examples of code to use as a starting point.\n",
    "\n",
    "2. Graph the variable using a histogram.\n",
    "3. Compute the mean and standard deviation and plot them as vertical lines on the histogram. (Hint: the “When Does It Break?” assignment you just completed can help you here.)\n",
    "4. Evaluate whether the descriptive statistics provided useful information about the variable. Can you identify any common characteristics of the distributions that could be usefully described using the mean and/or standard deviation, versus the ones that could not?\n",
    "\n",
    "<u>Distributions</u>: \n",
    "- [I. chi-square](#first)\n",
    ">[a quick function](#function)\n",
    "- [II. exponential](#second)\n",
    "- [III. student's t](#third)\n",
    "- [IV. pareto](#fourth)\n",
    "- [V. F](#fifth)\n",
    "- [VI. logistic](#sixth)\n"
   ]
  },
  {
   "cell_type": "code",
   "execution_count": 60,
   "metadata": {
    "collapsed": true
   },
   "outputs": [],
   "source": [
    "import numpy as np\n",
    "import pandas as pd\n",
    "import matplotlib.pyplot as plt\n",
    "%matplotlib inline\n"
   ]
  },
  {
   "cell_type": "markdown",
   "metadata": {},
   "source": [
    "## I. chi-square distribution <a class=\"anchor\" id=\"first\"></a>\n",
    "numpy.random.chisquare(df, size=None)\n",
    " - df should be >0"
   ]
  },
  {
   "cell_type": "code",
   "execution_count": 14,
   "metadata": {
    "collapsed": false
   },
   "outputs": [
    {
     "data": {
      "text/plain": [
       "array([ 2.97688489,  2.60663545,  0.8261068 ,  0.17485292,  0.45466705,\n",
       "        4.19832266,  3.07177089,  1.88633568,  5.6420429 ,  1.78949103,\n",
       "        0.75690054,  6.43825193,  2.09853158,  6.7346536 ,  1.23209354,\n",
       "        0.81337448,  0.47502095,  0.902404  ,  1.39975223,  4.54357738,\n",
       "        0.35985289,  4.45548779,  1.11777158,  0.66491236,  0.06480796,\n",
       "        1.78538219,  2.79880049,  3.0115312 ,  1.13297681,  6.51611665,\n",
       "        1.55880459,  2.0816065 ,  0.10107265,  0.88333777,  2.6358931 ,\n",
       "        0.94440107,  2.11797752,  0.47223746,  3.02196128,  0.88633877,\n",
       "        2.90523382,  0.47598675,  0.91208612,  0.50924684,  5.75535525,\n",
       "        0.03289962,  0.9793121 ,  2.70447516,  2.40909341,  0.14852396,\n",
       "        1.43114621,  1.75295059,  1.72915077,  3.16094468,  0.48475535,\n",
       "        0.27202289,  1.3993892 ,  1.45045479,  0.83654237,  3.70345912,\n",
       "        0.66975041,  0.60370085,  0.37310962,  0.02168569,  2.02920717,\n",
       "        2.13356147,  2.55510619,  1.13400155,  0.59077213,  0.67826432,\n",
       "        3.9439934 ,  2.98434859,  3.55127982,  3.85493621,  0.31686765,\n",
       "        1.28761054,  1.18253583,  2.14784989,  3.39183377,  0.73184985,\n",
       "        0.94962671,  0.04660685,  1.63212917,  4.33513267,  3.19290104,\n",
       "        1.86859125,  1.29929758,  1.2402073 ,  0.79771828,  1.52411224,\n",
       "        0.07559796,  4.03185892,  1.29811668,  0.18926631,  1.28217143,\n",
       "        0.87721954,  0.7942221 ,  1.87992576,  2.27521532,  0.54746877])"
      ]
     },
     "execution_count": 14,
     "metadata": {},
     "output_type": "execute_result"
    }
   ],
   "source": [
    "# Generate a chi-square distribution with df=2:\n",
    "chi_square = np.random.chisquare(2,100)\n",
    "chi_square"
   ]
  },
  {
   "cell_type": "code",
   "execution_count": 38,
   "metadata": {
    "collapsed": false
   },
   "outputs": [
    {
     "data": {
      "text/plain": [
       "(array([ 11.,  14.,  15.,  10.,   7.,   8.,   6.,   5.,   6.,   3.,   3.,\n",
       "          3.,   2.,   2.,   0.,   0.,   1.,   1.,   0.,   3.]),\n",
       " array([ 0.02168569,  0.35733408,  0.69298248,  1.02863087,  1.36427927,\n",
       "         1.69992767,  2.03557606,  2.37122446,  2.70687285,  3.04252125,\n",
       "         3.37816964,  3.71381804,  4.04946643,  4.38511483,  4.72076323,\n",
       "         5.05641162,  5.39206002,  5.72770841,  6.06335681,  6.3990052 ,\n",
       "         6.7346536 ]),\n",
       " <a list of 20 Patch objects>)"
      ]
     },
     "execution_count": 38,
     "metadata": {},
     "output_type": "execute_result"
    },
    {
     "data": {
      "image/png": "[encoded data removed]",
      "text/plain": [
       "<matplotlib.figure.Figure at 0x23d58510160>"
      ]
     },
     "metadata": {},
     "output_type": "display_data"
    }
   ],
   "source": [
    "# Plot a histogram\n",
    "plt.hist(chi_square, bins = 20, color = 'c')\n",
    "#plt.show()"
   ]
  },
  {
   "cell_type": "markdown",
   "metadata": {},
   "source": [
    "3.Compute the mean and standard deviation and plot them as vertical lines on the histogram. (Hint: the “When Does It Break?” assignment you just completed can help you here.)"
   ]
  },
  {
   "cell_type": "code",
   "execution_count": 35,
   "metadata": {
    "collapsed": false
   },
   "outputs": [
    {
     "name": "stdout",
     "output_type": "stream",
     "text": [
      "mean =  1.83005620963\n",
      "std =  1.5458920039\n"
     ]
    }
   ],
   "source": [
    "# Compute the mean and std\n",
    "print('mean = ',chi_square.mean())\n",
    "      \n",
    "print('std = ',chi_square.std(ddof=1))"
   ]
  },
  {
   "cell_type": "code",
   "execution_count": 46,
   "metadata": {
    "collapsed": false
   },
   "outputs": [
    {
     "data": {
      "image/png": "[encoded data removed]",
      "text/plain": [
       "<matplotlib.figure.Figure at 0x23d5894f5c0>"
      ]
     },
     "metadata": {},
     "output_type": "display_data"
    }
   ],
   "source": [
    "plt.hist(chi_square, bins = 20, color = 'c')\n",
    "# Add a vertical line at the mean\n",
    "plt.axvline(chi_square.mean() , color = 'r' , linestyle = 'solid' , linewidth=2)\n",
    "\n",
    "# Add a vertical line at 1 std above the mean:\n",
    "plt.axvline(chi_square.mean() + chi_square.std(ddof=1) , color = 'r' , linestyle = 'dashed' , linewidth=2 )\n",
    "\n",
    "plt.axvline(chi_square.mean() - chi_square.std(ddof=1) , color = 'r' , linestyle = 'dashed' , linewidth=2 )\n",
    "\n",
    "plt.ylabel('No of occurance in a bin')\n",
    "plt.xlabel('Values')\n",
    "plt.title('Chi-Square Distribution')\n",
    "\n",
    "plt.show()"
   ]
  },
  {
   "cell_type": "markdown",
   "metadata": {},
   "source": [
    "Data seems not to be centered, it looks skewed."
   ]
  },
  {
   "cell_type": "markdown",
   "metadata": {},
   "source": [
    "[Go back to top index](#top)"
   ]
  },
  {
   "cell_type": "markdown",
   "metadata": {},
   "source": [
    "## II. exponential distribution <a class=\"anchor\" id=\"second\"></a>\n",
    "numpy.random.exponential(scale=1.0, size=None)"
   ]
  },
  {
   "cell_type": "code",
   "execution_count": 75,
   "metadata": {
    "collapsed": false
   },
   "outputs": [
    {
     "data": {
      "text/plain": [
       "array([ 0.57269199,  0.02626824,  0.79775793,  0.57150032,  0.54536152,\n",
       "        0.40097742,  0.22897129,  0.96566735,  0.35618174,  0.31037396,\n",
       "        0.97057226,  0.75319892,  0.14454028,  0.72067897,  0.20388012,\n",
       "        1.53867729,  1.92397944,  0.68168678,  1.87445535,  0.08299633,\n",
       "        0.70369479,  0.06751522,  0.55883017,  0.10151339,  0.13600298,\n",
       "        0.90818693,  0.25619891,  0.11310788,  0.24885401,  0.4305157 ,\n",
       "        0.6307124 ,  0.22532496,  1.02278168,  0.65984749,  0.70367585,\n",
       "        0.48921524,  1.57812073,  0.86751052,  0.17709356,  1.20648378,\n",
       "        3.33966249,  0.6931639 ,  2.20292135,  0.41796337,  0.83735046,\n",
       "        0.55782283,  0.57402684,  1.49860871,  0.76701802,  3.07352576,\n",
       "        0.78571907,  0.08566129,  0.45624654,  1.90280615,  0.5213391 ,\n",
       "        0.0275792 ,  0.28392546,  0.06950483,  5.09163031,  3.52609122,\n",
       "        1.6107305 ,  0.92084389,  1.44799897,  0.18539682,  0.34675747,\n",
       "        0.74247793,  0.4410264 ,  0.04675515,  4.08360912,  0.58224093,\n",
       "        0.70118024,  0.39088391,  0.30076022,  0.48921073,  1.7838919 ,\n",
       "        1.33463995,  0.47676333,  0.0131028 ,  1.59654607,  0.31387383,\n",
       "        0.87391368,  0.02588304,  1.08530725,  0.49024458,  0.68731184,\n",
       "        0.53598248,  0.4321252 ,  0.80068318,  3.60861609,  0.11965803,\n",
       "        0.37579737,  0.04269636,  1.34093774,  1.07151979,  0.24160765,\n",
       "        0.53914527,  1.03238064,  1.08317602,  0.1869046 ,  2.13412783])"
      ]
     },
     "execution_count": 75,
     "metadata": {},
     "output_type": "execute_result"
    }
   ],
   "source": [
    "# Generate a distribution with 100 points of data:\n",
    "np.random.seed(2)\n",
    "exponential = np.random.exponential(scale=1.0, size=100)\n",
    "exponential"
   ]
  },
  {
   "cell_type": "code",
   "execution_count": 77,
   "metadata": {
    "collapsed": false
   },
   "outputs": [
    {
     "data": {
      "text/plain": [
       "(array([ 24.,  18.,  22.,  11.,   5.,   4.,   5.,   3.,   2.,   0.,   0.,\n",
       "          0.,   1.,   2.,   1.,   0.,   1.,   0.,   0.,   1.]),\n",
       " array([ 0.0131028 ,  0.26702918,  0.52095556,  0.77488193,  1.02880831,\n",
       "         1.28273468,  1.53666106,  1.79058743,  2.04451381,  2.29844018,\n",
       "         2.55236656,  2.80629293,  3.06021931,  3.31414568,  3.56807206,\n",
       "         3.82199843,  4.07592481,  4.32985119,  4.58377756,  4.83770394,\n",
       "         5.09163031]),\n",
       " <a list of 20 Patch objects>)"
      ]
     },
     "execution_count": 77,
     "metadata": {},
     "output_type": "execute_result"
    },
    {
     "data": {
      "image/png": "[encoded data removed]",
      "text/plain": [
       "<matplotlib.figure.Figure at 0x23d58521be0>"
      ]
     },
     "metadata": {},
     "output_type": "display_data"
    }
   ],
   "source": [
    "# Plot a histogram\n",
    "plt.hist(exponential, bins = 20, color = 'y')\n",
    "#plt.show()"
   ]
  },
  {
   "cell_type": "markdown",
   "metadata": {},
   "source": [
    "### Function to speed up calculations: <a class=\"anchor\" id=\"function\"></a>"
   ]
  },
  {
   "cell_type": "code",
   "execution_count": 105,
   "metadata": {
    "collapsed": false
   },
   "outputs": [],
   "source": [
    "def plot_distrib(name_of_ditribution,title_of_distribution):\n",
    "    plt.hist(name_of_ditribution, bins = 20, color = 'c')\n",
    "    # Add a vertical line at the mean\n",
    "    plt.axvline(name_of_ditribution.mean() , color = 'r' , linestyle = 'solid' , linewidth=2)\n",
    "\n",
    "    # Add a vertical line at 1 std above the mean:\n",
    "    plt.axvline(name_of_ditribution.mean() + name_of_ditribution.std(ddof=1) , color = 'r' , linestyle = 'dashed' , linewidth=2 )\n",
    "\n",
    "    plt.axvline(name_of_ditribution.mean() - name_of_ditribution.std(ddof=1) , color = 'r' , linestyle = 'dashed' , linewidth=2 )\n",
    "\n",
    "    plt.ylabel('No of occurance in a bin')\n",
    "    plt.xlabel('Values')\n",
    "    plt.title('%s Distribution'%(title_of_distribution))\n",
    "\n",
    "    plt.show()"
   ]
  },
  {
   "cell_type": "code",
   "execution_count": 98,
   "metadata": {
    "collapsed": false
   },
   "outputs": [
    {
     "data": {
      "image/png": "[encoded data removed]",
      "text/plain": [
       "<matplotlib.figure.Figure at 0x23d59b80860>"
      ]
     },
     "metadata": {},
     "output_type": "display_data"
    }
   ],
   "source": [
    "plot_distrib(exponential,'Exponential')"
   ]
  },
  {
   "cell_type": "markdown",
   "metadata": {},
   "source": [
    "[Go back to top index](#top)"
   ]
  },
  {
   "cell_type": "markdown",
   "metadata": {},
   "source": [
    "## III. Student's t distribution <a class=\"anchor\" id=\"third\"></a>\n",
    "numpy.random.standard_t(df, size=None)"
   ]
  },
  {
   "cell_type": "code",
   "execution_count": 103,
   "metadata": {
    "collapsed": false
   },
   "outputs": [
    {
     "data": {
      "text/plain": [
       "array([ 0.59898336,  1.87487969, -0.16818928,  0.48644034,  0.01730212,\n",
       "       -0.67775672,  0.79514196,  1.2849913 , -0.84429783,  0.18513856,\n",
       "       -1.51468192, -0.79345941,  0.95845533,  0.10291372,  2.21775653,\n",
       "        0.62681597,  0.76016541, -0.45222386,  0.49839441,  0.85255948,\n",
       "       -0.17076518, -0.96633575, -1.18879663, -0.38609582, -9.11372534,\n",
       "        1.68545698, -0.43473425,  0.02709555, -0.20719946,  0.79430733,\n",
       "        0.78729858, -2.23083276,  0.19401758,  1.1740451 , -1.88733065,\n",
       "       -4.52724744,  0.57455723, -2.05324802,  1.63509769, -1.13706593,\n",
       "       -1.47646873, -0.11567341,  0.76501709, -0.21677327, -1.38661147,\n",
       "        1.67971144, -0.83390715, -0.59664364, -0.01889837,  0.26158072,\n",
       "        1.27630028,  1.50565137,  0.32985045, -0.3642657 ,  2.05331459,\n",
       "       -1.34523014, -0.56585032, -1.44087594, -0.1414952 ,  0.22302379,\n",
       "       -0.4658037 ,  1.5025839 ,  0.87912893,  0.20169292,  1.33096773,\n",
       "        0.96365947,  1.53733971,  1.29756662, -0.64474081,  1.73827007,\n",
       "        1.11635225,  0.72047098, -0.96065455, -0.33794446,  0.91532593,\n",
       "       -1.12394002,  0.26584521, -0.16506021, -0.11404723, -0.81815259,\n",
       "        0.734704  ,  1.06986411,  1.28765898, -1.32744372, -0.09149876,\n",
       "       -0.99099867,  3.48085089, -0.42083229, -1.89917174,  0.25668639,\n",
       "       -0.61362515,  0.31825837,  0.37551238,  0.62335355,  0.13208986,\n",
       "        0.61849694,  0.07592662, -0.39199842,  0.41994538,  0.32022065])"
      ]
     },
     "execution_count": 103,
     "metadata": {},
     "output_type": "execute_result"
    }
   ],
   "source": [
    "# Generate a distribution with 100 points of data:\n",
    "#np.random.seed(1)\n",
    "student_t = np.random.standard_t(df=3, size=100)\n",
    "student_t"
   ]
  },
  {
   "cell_type": "code",
   "execution_count": 106,
   "metadata": {
    "collapsed": false,
    "scrolled": true
   },
   "outputs": [
    {
     "data": {
      "image/png": "[encoded data removed]",
      "text/plain": [
       "<matplotlib.figure.Figure at 0x23d59b47eb8>"
      ]
     },
     "metadata": {},
     "output_type": "display_data"
    }
   ],
   "source": [
    "plot_distrib(student_t,'Student\\'s t')"
   ]
  },
  {
   "cell_type": "markdown",
   "metadata": {},
   "source": [
    "[Go back to top index](#top)"
   ]
  },
  {
   "cell_type": "markdown",
   "metadata": {},
   "source": [
    "## IV. pareto distribution <a class=\"anchor\" id=\"fourth\"></a>\n",
    "numpy.random.pareto(a, size=None)"
   ]
  },
  {
   "cell_type": "code",
   "execution_count": 109,
   "metadata": {
    "collapsed": false
   },
   "outputs": [
    {
     "data": {
      "text/plain": [
       "array([  1.97060074e-01,   5.29144483e-01,   3.81278464e-05,\n",
       "         1.27501645e-01,   5.43275796e-02,   3.28217544e-02,\n",
       "         7.11200514e-02,   1.51799491e-01,   1.83509504e-01,\n",
       "         2.94321464e-01,   1.98550756e-01,   4.70045329e-01,\n",
       "         7.92231418e-02,   1.01690824e+00,   9.29951587e-03,\n",
       "         4.47773379e-01,   1.97253698e-01,   3.13465553e-01,\n",
       "         5.17172522e-02,   7.63665620e-02,   7.12103219e-01,\n",
       "         2.15843211e+00,   1.33540822e-01,   4.81271982e-01,\n",
       "         1.00746418e+00,   1.11703944e+00,   3.00697425e-02,\n",
       "         1.33678541e-02,   6.40067786e-02,   1.01704653e+00,\n",
       "         3.51107748e-02,   1.99869619e-01,   1.87433007e+00,\n",
       "         2.89077274e-01,   4.80557735e-01,   1.34694165e-01,\n",
       "         4.72045543e-01,   8.21841689e-01,   6.17149072e-03,\n",
       "         5.87706617e-01,   3.47767348e+00,   5.83537479e-01,\n",
       "         1.15951016e-01,   6.80470731e-01,   3.69846592e-02,\n",
       "         2.18968230e-01,   1.21995487e+00,   1.22843776e-01,\n",
       "         1.19766999e-01,   4.75264640e-02,   6.54027966e-03,\n",
       "         4.60239762e-01,   8.24876681e-02,   1.08354264e-01,\n",
       "         2.52921447e-01,   1.84477945e-02,   3.29138091e-01,\n",
       "         5.43163287e-02,   3.45324498e-01,   4.93400728e-01,\n",
       "         3.66412281e-02,   1.95036839e-01,   4.84621087e-01,\n",
       "         1.95120662e-01,   1.72281569e-02,   2.91600951e-01,\n",
       "         4.38131033e-01,   2.72681289e-01,   1.62310923e+00,\n",
       "         3.42334543e-01,   1.17943453e+00,   5.05322432e-02,\n",
       "         5.12647141e-02,   7.31575204e-01,   1.84104809e-01,\n",
       "         6.21012714e-02,   1.39830529e+00,   1.53096067e-01,\n",
       "         5.89123628e-01,   5.39626632e-01,   1.04636895e+00,\n",
       "         3.85089708e-01,   5.89400774e-01,   1.53764219e-01,\n",
       "         1.10566957e-01,   1.12567693e+00,   2.04733733e-01,\n",
       "         2.05246415e+00,   4.37627852e-01,   3.82673317e-01,\n",
       "         4.14634418e-02,   1.70523763e+00,   2.20457456e-01,\n",
       "         3.33612221e-01,   1.91039655e-01,   9.43685567e-02,\n",
       "         1.17926614e+00,   3.28682627e-01,   9.58610614e-04,\n",
       "         3.77173084e-01])"
      ]
     },
     "execution_count": 109,
     "metadata": {},
     "output_type": "execute_result"
    }
   ],
   "source": [
    "# Generate a distribution with 100 points of data:\n",
    "np.random.seed(1)\n",
    "pareto = np.random.pareto(a=3, size=100)\n",
    "pareto"
   ]
  },
  {
   "cell_type": "code",
   "execution_count": 110,
   "metadata": {
    "collapsed": false
   },
   "outputs": [
    {
     "data": {
      "image/png": "[encoded data removed]",
      "text/plain": [
       "<matplotlib.figure.Figure at 0x23d59b47e10>"
      ]
     },
     "metadata": {},
     "output_type": "display_data"
    }
   ],
   "source": [
    "plot_distrib(pareto,'Pareto')"
   ]
  },
  {
   "cell_type": "markdown",
   "metadata": {},
   "source": [
    "[Go back to top index](#top)"
   ]
  },
  {
   "cell_type": "markdown",
   "metadata": {},
   "source": [
    "## V. F distribution <a class=\"anchor\" id=\"fifth\"></a>\n",
    "numpy.random.f(dfnum, dfden, size=None)"
   ]
  },
  {
   "cell_type": "code",
   "execution_count": 115,
   "metadata": {
    "collapsed": false
   },
   "outputs": [
    {
     "data": {
      "text/plain": [
       "array([  6.49405394e-01,   4.91326381e+00,   2.33265461e+00,\n",
       "         2.53207262e-02,   2.13303346e+00,   6.67711127e-02,\n",
       "         6.52927395e-01,   9.19216889e+00,   3.93847144e-01,\n",
       "         3.81756293e-01,   3.33742798e-01,   8.05524899e-01,\n",
       "         2.80555984e+00,   1.11636999e+00,   2.77805854e+00,\n",
       "         1.51282077e+00,   1.42402530e+00,   8.68631342e-01,\n",
       "         1.51382983e+00,   2.14450023e+00,   1.06084734e+00,\n",
       "         2.12018094e+00,   4.35517012e+00,   5.12403996e-01,\n",
       "         1.73783219e+01,   1.22488099e+00,   5.63646676e-01,\n",
       "         7.37747794e-01,   4.97462324e+00,   8.47239778e-01,\n",
       "         1.67878539e+00,   1.78318502e-01,   1.30466399e-01,\n",
       "         3.23485980e-01,   2.20469192e+00,   6.25541109e-01,\n",
       "         8.05716954e-01,   5.29322352e-01,   3.82490213e-01,\n",
       "         6.07110379e-01,   1.39546364e+00,   1.86860548e+00,\n",
       "         7.75181474e-01,   4.61510607e+00,   7.43448050e-01,\n",
       "         1.18912375e+01,   2.68314341e-01,   4.99730367e-01,\n",
       "         5.30250824e+00,   3.34494580e-01,   7.15268551e+00,\n",
       "         4.02644117e-01,   9.81330423e-02,   1.72187422e+00,\n",
       "         3.61326653e+00,   1.95239458e-01,   7.33965082e-01,\n",
       "         7.69453061e-01,   3.79710508e-01,   1.34052046e+00,\n",
       "         9.19281202e-02,   2.43604310e-01,   8.35790219e-01,\n",
       "         1.56609050e+00,   2.39057119e+00,   4.39625640e-01,\n",
       "         9.92516468e-01,   1.62698389e+00,   2.28819821e-01,\n",
       "         3.81537478e+00,   7.05658374e-01,   3.51043022e-01,\n",
       "         4.77361634e+00,   9.41949448e-01,   6.87544330e-01,\n",
       "         7.47753059e-01,   1.31484162e-01,   2.41897696e-01,\n",
       "         5.13382863e-01,   7.11210836e-01,   1.42021695e+00,\n",
       "         3.43721459e+00,   9.15636469e+00,   4.94820784e+00,\n",
       "         4.46941213e-01,   5.90793070e-01,   2.84622255e+00,\n",
       "         9.15887199e+00,   8.05421104e-01,   2.35311939e+00,\n",
       "         1.77335427e+00,   2.21838325e-01,   7.11304631e-02,\n",
       "         3.03610296e+00,   2.90423068e-01,   3.84855153e+01,\n",
       "         2.75669675e-01,   1.44548142e+00,   8.49609032e-01,\n",
       "         3.53341618e-01])"
      ]
     },
     "execution_count": 115,
     "metadata": {},
     "output_type": "execute_result"
    }
   ],
   "source": [
    "# Generate a distribution with 100 points of data:\n",
    "np.random.seed(4)\n",
    "f_distrib = np.random.f(3,2, size=100)\n",
    "f_distrib"
   ]
  },
  {
   "cell_type": "code",
   "execution_count": 116,
   "metadata": {
    "collapsed": false
   },
   "outputs": [
    {
     "data": {
      "image/png": "[encoded data removed]",
      "text/plain": [
       "<matplotlib.figure.Figure at 0x23d59e19f60>"
      ]
     },
     "metadata": {},
     "output_type": "display_data"
    }
   ],
   "source": [
    "plot_distrib(f_distrib,'F')"
   ]
  },
  {
   "cell_type": "markdown",
   "metadata": {},
   "source": [
    "[Go back to top index](#top)"
   ]
  },
  {
   "cell_type": "markdown",
   "metadata": {},
   "source": [
    "## VI. logistic distribution <a class=\"anchor\" id=\"sixth\"></a>\n",
    "numpy.random.logistic(loc=0.0, scale=1.0, size=None)"
   ]
  },
  {
   "cell_type": "code",
   "execution_count": 117,
   "metadata": {
    "collapsed": false
   },
   "outputs": [
    {
     "data": {
      "text/plain": [
       "array([ 3.37862641,  0.189494  ,  3.5726002 ,  0.91889055,  0.83650598,\n",
       "       -1.28860221,  3.71719143, -5.07208824, -1.08276902, -0.26232795,\n",
       "        1.26207396, -1.40082597,  1.84037655,  4.08165474, -1.62991328,\n",
       "        0.39436875, -4.70304988, -0.46174779, -3.07476976,  3.09420246,\n",
       "       -0.25681567,  2.92311439,  1.30280086,  1.86854039, -1.56335732,\n",
       "       -2.51304695,  0.40856074, -1.60006748,  1.01184042, -0.37040211,\n",
       "        0.11175145,  2.70927255,  0.08683902, -2.1093291 , -1.67150665,\n",
       "        0.18130563,  0.09769395,  0.56500689, -0.39923795,  0.61818265,\n",
       "       -0.41839865,  0.50620371,  1.19371577, -1.52331485, -0.50836976,\n",
       "        0.01013232,  0.78458331, -1.07908269,  0.21984465,  0.51053057,\n",
       "        2.14820761, -0.56300006,  0.56477678, -1.44063908, -0.0088236 ,\n",
       "       -1.49986671,  2.42057746, -0.27442099,  1.58696096, -0.33602117,\n",
       "        2.25019772, -0.3853997 , -0.70287775,  0.29058265,  1.69930276,\n",
       "        1.82374016,  0.38753067, -2.38063156,  0.39408881, -1.12300826,\n",
       "        1.00782074,  2.13915815,  0.05895295,  0.42033542, -2.66504401,\n",
       "        0.1606435 , -1.90816821,  0.46653304, -0.55955536,  1.19569484,\n",
       "       -2.97573642, -2.09260028,  0.77232311,  0.05863158,  0.28855106,\n",
       "        1.68607278, -0.04905928,  1.45094886,  0.04098025,  2.53737396,\n",
       "        0.69432238, -1.74462173, -0.55565599,  1.86410684, -0.61778577,\n",
       "       -1.45635299, -0.10962442, -0.43563658,  0.48500878, -0.2542964 ])"
      ]
     },
     "execution_count": 117,
     "metadata": {},
     "output_type": "execute_result"
    }
   ],
   "source": [
    "# Generate a distribution with 100 points of data:\n",
    "np.random.seed(4)\n",
    "logistic = np.random.logistic(0,1, size=100)\n",
    "logistic"
   ]
  },
  {
   "cell_type": "code",
   "execution_count": 118,
   "metadata": {
    "collapsed": false
   },
   "outputs": [
    {
     "data": {
      "image/png": "[encoded data removed]",
      "text/plain": [
       "<matplotlib.figure.Figure at 0x23d587c0240>"
      ]
     },
     "metadata": {},
     "output_type": "display_data"
    }
   ],
   "source": [
    "plot_distrib(logistic,'Logistic')"
   ]
  },
  {
   "cell_type": "markdown",
   "metadata": {},
   "source": [
    "[Go back to top index](#top)"
   ]
  }
 ],
 "metadata": {
  "anaconda-cloud": {},
  "kernelspec": {
   "display_name": "Python [conda root]",
   "language": "python",
   "name": "conda-root-py"
  },
  "language_info": {
   "codemirror_mode": {
    "name": "ipython",
    "version": 3
   },
   "file_extension": ".py",
   "mimetype": "text/x-python",
   "name": "python",
   "nbconvert_exporter": "python",
   "pygments_lexer": "ipython3",
   "version": "3.5.2"
  },
  "latex_envs": {
   "LaTeX_envs_menu_present": true,
   "autocomplete": true,
   "bibliofile": "biblio.bib",
   "cite_by": "apalike",
   "current_citInitial": 1,
   "eqLabelWithNumbers": true,
   "eqNumInitial": 1,
   "hotkeys": {
    "equation": "Ctrl-E",
    "itemize": "Ctrl-I"
   },
   "labels_anchors": false,
   "latex_user_defs": false,
   "report_style_numbering": false,
   "user_envs_cfg": false
  }
 },
 "nbformat": 4,
 "nbformat_minor": 1
}
