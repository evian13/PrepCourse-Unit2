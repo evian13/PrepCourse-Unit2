{
 "cells": [
  {
   "cell_type": "markdown",
   "metadata": {
    "collapsed": true
   },
   "source": [
    "\n",
    "A diagnostic test has a 98% probability of giving a positive result when applied to a person suffering from Thripshaw's Disease, and 10% probability of giving a (false) positive when applied to a non-sufferer. It is estimated that 0.5 % of the population are sufferers. Suppose that the test is now administered to a person whose disease status is unknown. Calculate the probability that the test will:\n",
    "\n",
    "1. Be positive\n",
    "- Correctly diagnose a sufferer of Thripshaw's\n",
    "- Correctly identify a non-sufferer of Thripshaw's\n",
    "- Misclassify the person"
   ]
  },
  {
   "cell_type": "markdown",
   "metadata": {},
   "source": [
    "Translate the problem:\n",
    "\n",
    "P(suff) = 0.5% : probability of being a sufferer from a population\n",
    "\n",
    "There is a test with two outcomes: Positive(has disease) and Negative(no disease)\n",
    "* P(Pos|suff) = 98%\n",
    "* P(Pos|non_suff) = 10%"
   ]
  },
  {
   "cell_type": "markdown",
   "metadata": {},
   "source": [
    "From the text above we can write these:\n",
    "> P(non_suff) = 1-0.5% = 99.5%\n",
    "\n",
    "* P(Neg|suff) = 1-98% = 2%\n",
    "* P(Neg|non_suff) = 1-10% = 90%"
   ]
  },
  {
   "cell_type": "markdown",
   "metadata": {},
   "source": [
    "In general:\n",
    "\n",
    ">P(A|B) = P(A)\\*P(B|A) / P(B)\n",
    "\n",
    "AND\n",
    "\n",
    ">P(B) = P(A)\\*P(B|A) + P(NON_A)\\*P(B|NON_A)"
   ]
  },
  {
   "cell_type": "markdown",
   "metadata": {},
   "source": [
    "### 1:\n",
    "\n",
    "-   P(suff)     * P(Pos|suff)     / P(Pos) = P(suff|Pos)\n",
    "\n",
    "-   P(non_suff) * P(Pos|non_suff) / P(pos) = P(non_suff|Pos)\n",
    "\n",
    "P(pos) = P(suff) * P(pos|suff) + P(non_suff) * P(pos|non_suff)\n",
    "\n",
    "P(pos) = 0.5% \\* 98% + (1-0.5%) \\* 10% = 0.0049 + 0.995*0.1 = 0.1044\n"
   ]
  },
  {
   "cell_type": "markdown",
   "metadata": {},
   "source": [
    "### 2:\n",
    "\n",
    "= 98%"
   ]
  },
  {
   "cell_type": "markdown",
   "metadata": {},
   "source": [
    "### 3:\n",
    "\n",
    "Correctly identify a non-sufferer of Thripshaw's = P(non_suff|Neg)\n",
    "\n",
    "= ..."
   ]
  },
  {
   "cell_type": "markdown",
   "metadata": {},
   "source": [
    "### 4:\n",
    "Misclassify the person = the test is negative but the person has cancer = P(suff|neg)\n",
    "\n",
    "P(suff|neg) = P(suff) \\* P(neg|suff) / P(neg) = 0.5% \\* (1-98%) / (1-P(pos)) = 0.005*0.02 / (1-0.1044) = too low!?"
   ]
  }
 ],
 "metadata": {
  "anaconda-cloud": {},
  "kernelspec": {
   "display_name": "Python [conda root]",
   "language": "python",
   "name": "conda-root-py"
  },
  "language_info": {
   "codemirror_mode": {
    "name": "ipython",
    "version": 3
   },
   "file_extension": ".py",
   "mimetype": "text/x-python",
   "name": "python",
   "nbconvert_exporter": "python",
   "pygments_lexer": "ipython3",
   "version": "3.5.2"
  },
  "latex_envs": {
   "LaTeX_envs_menu_present": true,
   "autocomplete": true,
   "bibliofile": "biblio.bib",
   "cite_by": "apalike",
   "current_citInitial": 1,
   "eqLabelWithNumbers": true,
   "eqNumInitial": 1,
   "hotkeys": {
    "equation": "Ctrl-E",
    "itemize": "Ctrl-I"
   },
   "labels_anchors": false,
   "latex_user_defs": false,
   "report_style_numbering": false,
   "user_envs_cfg": false
  }
 },
 "nbformat": 4,
 "nbformat_minor": 1
}
