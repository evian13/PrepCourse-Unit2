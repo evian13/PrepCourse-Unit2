{
 "cells": [
  {
   "cell_type": "markdown",
   "metadata": {},
   "source": [
    "# DS Bootcamp - U1L4.5 - CAPSTONE Narrative analytics and experimentation\n",
    "... The main component of this capstone is a research proposal. Using the data set you selected, propose and outline an experiment plan. The plan should consist of three key components:\n",
    "\n",
    "- Analysis that highlights your experimental hypothesis.\n",
    "- A rollout plan showing how you would implement and rollout the experiment\n",
    "- An evaluation plan showing what constitutes success in this experiment\n",
    "\n",
    "...\n",
    "\n",
    "First, dive in and explore the data set. Include your code and visuals from this process in your final write up. <B>While doing this, look for something that provokes a question; specifically one that can be answered with an experiment.</b>"
   ]
  },
  {
   "cell_type": "markdown",
   "metadata": {},
   "source": [
    "\n",
    "\n",
    "\n"
   ]
  },
  {
   "cell_type": "code",
   "execution_count": 1,
   "metadata": {},
   "outputs": [],
   "source": [
    "import numpy as np\n",
    "import pandas as pd\n",
    "import matplotlib.pyplot as plt\n",
    "%matplotlib inline"
   ]
  },
  {
   "cell_type": "code",
   "execution_count": 2,
   "metadata": {},
   "outputs": [],
   "source": [
    "# We import the data from csv file:\n",
    "df = pd.read_csv('think capstone1_slim.csv' ,encoding ='latin1')"
   ]
  },
  {
   "cell_type": "code",
   "execution_count": 3,
   "metadata": {},
   "outputs": [
    {
     "data": {
      "text/html": [
       "<div>\n",
       "<style scoped>\n",
       "    .dataframe tbody tr th:only-of-type {\n",
       "        vertical-align: middle;\n",
       "    }\n",
       "\n",
       "    .dataframe tbody tr th {\n",
       "        vertical-align: top;\n",
       "    }\n",
       "\n",
       "    .dataframe thead th {\n",
       "        text-align: right;\n",
       "    }\n",
       "</style>\n",
       "<table border=\"1\" class=\"dataframe\">\n",
       "  <thead>\n",
       "    <tr style=\"text-align: right;\">\n",
       "      <th></th>\n",
       "      <th>YYYY_MM</th>\n",
       "      <th>IdProduct</th>\n",
       "      <th>Product_Name</th>\n",
       "      <th>Manufacturer_Name</th>\n",
       "      <th>Product Classification</th>\n",
       "      <th>IdLocation</th>\n",
       "      <th>Drugstore_Name</th>\n",
       "      <th>Total_Sales</th>\n",
       "      <th>No_of_transactions</th>\n",
       "      <th>No_of_medical_prescriptions</th>\n",
       "      <th>Units_Sold</th>\n",
       "      <th>Net_Profit</th>\n",
       "      <th>row_num_sales</th>\n",
       "      <th>row_num_profit</th>\n",
       "    </tr>\n",
       "  </thead>\n",
       "  <tbody>\n",
       "    <tr>\n",
       "      <th>0</th>\n",
       "      <td>2015-1</td>\n",
       "      <td>20177</td>\n",
       "      <td>Nut Seringa Ject 10 Ml Cu Ac</td>\n",
       "      <td>MINUT</td>\n",
       "      <td>_DispozitivMedicalMultiplu</td>\n",
       "      <td>3</td>\n",
       "      <td>Stad</td>\n",
       "      <td>45.73</td>\n",
       "      <td>15</td>\n",
       "      <td>0</td>\n",
       "      <td>86.0</td>\n",
       "      <td>18.07</td>\n",
       "      <td>2</td>\n",
       "      <td>3</td>\n",
       "    </tr>\n",
       "    <tr>\n",
       "      <th>1</th>\n",
       "      <td>2015-1</td>\n",
       "      <td>2130</td>\n",
       "      <td>Panthen Unguent 50 Mg /G X 100 G</td>\n",
       "      <td>BAYER SCHERING</td>\n",
       "      <td>Cosmetice</td>\n",
       "      <td>3</td>\n",
       "      <td>Stad</td>\n",
       "      <td>265.55</td>\n",
       "      <td>4</td>\n",
       "      <td>0</td>\n",
       "      <td>5.0</td>\n",
       "      <td>46.66</td>\n",
       "      <td>1</td>\n",
       "      <td>1</td>\n",
       "    </tr>\n",
       "    <tr>\n",
       "      <th>2</th>\n",
       "      <td>2015-1</td>\n",
       "      <td>18</td>\n",
       "      <td>Oderma Abc Derm Gel Spumant X 200 Ml</td>\n",
       "      <td>BIODERMA</td>\n",
       "      <td>Cosmetice</td>\n",
       "      <td>3</td>\n",
       "      <td>Stad</td>\n",
       "      <td>37.42</td>\n",
       "      <td>1</td>\n",
       "      <td>0</td>\n",
       "      <td>1.0</td>\n",
       "      <td>9.45</td>\n",
       "      <td>14</td>\n",
       "      <td>9</td>\n",
       "    </tr>\n",
       "    <tr>\n",
       "      <th>3</th>\n",
       "      <td>2015-1</td>\n",
       "      <td>20697</td>\n",
       "      <td>Ltene Tratament Pt Unghii</td>\n",
       "      <td>FOLTENE</td>\n",
       "      <td>Cosmetice</td>\n",
       "      <td>3</td>\n",
       "      <td>Stad</td>\n",
       "      <td>48.90</td>\n",
       "      <td>1</td>\n",
       "      <td>0</td>\n",
       "      <td>1.0</td>\n",
       "      <td>4.38</td>\n",
       "      <td>8</td>\n",
       "      <td>33</td>\n",
       "    </tr>\n",
       "    <tr>\n",
       "      <th>4</th>\n",
       "      <td>2015-1</td>\n",
       "      <td>25030</td>\n",
       "      <td>Nsiprod Tensiometru Pentru Brat</td>\n",
       "      <td>PANSIPROD</td>\n",
       "      <td>Dispozitive Medicale</td>\n",
       "      <td>3</td>\n",
       "      <td>Stad</td>\n",
       "      <td>408.16</td>\n",
       "      <td>2</td>\n",
       "      <td>0</td>\n",
       "      <td>2.0</td>\n",
       "      <td>96.13</td>\n",
       "      <td>1</td>\n",
       "      <td>2</td>\n",
       "    </tr>\n",
       "  </tbody>\n",
       "</table>\n",
       "</div>"
      ],
      "text/plain": [
       "  YYYY_MM  IdProduct                          Product_Name Manufacturer_Name  \\\n",
       "0  2015-1      20177          Nut Seringa Ject 10 Ml Cu Ac             MINUT   \n",
       "1  2015-1       2130      Panthen Unguent 50 Mg /G X 100 G    BAYER SCHERING   \n",
       "2  2015-1         18  Oderma Abc Derm Gel Spumant X 200 Ml          BIODERMA   \n",
       "3  2015-1      20697             Ltene Tratament Pt Unghii           FOLTENE   \n",
       "4  2015-1      25030       Nsiprod Tensiometru Pentru Brat         PANSIPROD   \n",
       "\n",
       "       Product Classification  IdLocation Drugstore_Name  Total_Sales  \\\n",
       "0  _DispozitivMedicalMultiplu           3           Stad        45.73   \n",
       "1                   Cosmetice           3           Stad       265.55   \n",
       "2                   Cosmetice           3           Stad        37.42   \n",
       "3                   Cosmetice           3           Stad        48.90   \n",
       "4        Dispozitive Medicale           3           Stad       408.16   \n",
       "\n",
       "   No_of_transactions  No_of_medical_prescriptions  Units_Sold  Net_Profit  \\\n",
       "0                  15                            0        86.0       18.07   \n",
       "1                   4                            0         5.0       46.66   \n",
       "2                   1                            0         1.0        9.45   \n",
       "3                   1                            0         1.0        4.38   \n",
       "4                   2                            0         2.0       96.13   \n",
       "\n",
       "   row_num_sales  row_num_profit  \n",
       "0              2               3  \n",
       "1              1               1  \n",
       "2             14               9  \n",
       "3              8              33  \n",
       "4              1               2  "
      ]
     },
     "execution_count": 3,
     "metadata": {},
     "output_type": "execute_result"
    }
   ],
   "source": [
    "# Get a feel for the data:\n",
    "df.head()"
   ]
  },
  {
   "cell_type": "code",
   "execution_count": 13,
   "metadata": {},
   "outputs": [
    {
     "name": "stdout",
     "output_type": "stream",
     "text": [
      "                           Product_Name Product Classification  Net_Profit  \\\n",
      "289   O-Dis L-Arginina 500 Mg X 50 Cps.                PROPRII    21577.01   \n",
      "80   Eprazol Atb 20 Mg X 20 Cps. Gastr.                     RX    16787.49   \n",
      "29                 Bilet 5 Mg X 28 Cpr.                     RX     9990.44   \n",
      "419         Rtensif Sr 1.5 Mg X 30 Cpr.                     RX     8338.17   \n",
      "287       O-Dis Digmax 400 Mg X 50 Cps.                PROPRII     8139.40   \n",
      "\n",
      "     Units_Sold  \n",
      "289     1016.74  \n",
      "80      1848.40  \n",
      "29      2419.85  \n",
      "419     2033.97  \n",
      "287      347.04  \n"
     ]
    },
    {
     "name": "stderr",
     "output_type": "stream",
     "text": [
      "C:\\Anaconda3\\lib\\site-packages\\pandas\\plotting\\_core.py:1716: UserWarning: Pandas doesn't allow columns to be created via a new attribute name - see https://pandas.pydata.org/pandas-docs/stable/indexing.html#attribute-access\n",
      "  series.name = label\n"
     ]
    },
    {
     "data": {
      "image/png": "[encoded data removed]",
      "text/plain": [
       "<matplotlib.figure.Figure at 0x21e657a3a58>"
      ]
     },
     "metadata": {},
     "output_type": "display_data"
    }
   ],
   "source": [
    "a = df.groupby(['Product_Name','Product Classification'])['Net_Profit','Units_Sold'].sum().reset_index()\n",
    "a = a.sort_values(by=['Net_Profit'],ascending=False)\n",
    "print(a.head())\n",
    "\n",
    "a.head(10).plot(x=['Product_Name','Product Classification'], y =['Net_Profit','Units_Sold'] , kind='barh', figsize=[5, 5]\n",
    "                ,title=\"Top profitable products\"\n",
    "               #,color='r'\n",
    "               )\n",
    "plt.gca().invert_yaxis()\n",
    "plt.show()"
   ]
  },
  {
   "cell_type": "code",
   "execution_count": null,
   "metadata": {
    "scrolled": false
   },
   "outputs": [],
   "source": []
  },
  {
   "cell_type": "code",
   "execution_count": null,
   "metadata": {},
   "outputs": [],
   "source": []
  },
  {
   "cell_type": "markdown",
   "metadata": {},
   "source": [
    "### Re:\n",
    "\n",
    "We are going to anlyze through the same data as in Capstone from prep course.\n",
    "\n",
    "The sample of data is from the sales of a drugstore retail chain.\n",
    "\n",
    "The data is extracted from a database with a few million rows. The data was aggregated on IdLocation and calendar months('YYYY-MM') by the 'Total_Sales', 'Units_Sold' and 'Net_Profit'. I extracted only the products that met the top 10 criteria on either 'Total_Sales' or 'Net_Profit', for each product classification and for each of the 5 locations.\n",
    "\n",
    "To be able to perform an experiment I went through the data and I noticed the graph above that plots Net_Profit and Units_Sold per product.\n",
    "\n",
    "We were very excited to discover that from a considerable smaller number of units sold than the 2nd, 3rd or 4th products, the profir is very high for the first in ranks: 'O-Dis L-Arginina 500 Mg X 50 Cps.(PROPRII)'.\n",
    "\n",
    "We also noticed that this product is classified in the 'PROPRII' group and the next 3 products are in 'RX' group. We remeber that the RX group is made from drugs sold only with prescription and that have their selling and acquisition price set by the government. \n",
    "\n",
    "If we could increase the units sold for this product, the benefit would be great for the company.\n",
    "\n",
    "### Setting the Stage\n",
    "\n",
    "We are going to use a marketing campaign that uses the same text message to advertise for our 'control' group the same discount percentage as they usually get(10%), and for the test group(13%). The text message includes a few words about the health advanteges.\n",
    "\n",
    "We are going to use our clients' database that have a mobile telephone number and their age higher than 35s. We are texting the predefined text with an individual code.  When the client comes in the pharmacy he has to provide the code to get the discount for the product so we can track who acted on the SMS.\n",
    "\n",
    "**Success metric:** If clients from the test group that buy the product using the code are more than the control ones it means the percentage of discount was at a good level to attract them. To turn this patient into a recurring one the sales team has to make a good impression on him with very good quality health advises. \n",
    "\n",
    "**Secondary metrics:** We are measuring the time between sending the SMS and the date of the purchase to see how motivated the clients are.\n",
    "\n",
    "We can test our idea with a sample of data, 10% of phone numbers from our 30.000,  which we are going to split in test, 20%, and control, 80%. We send the message to them and collect the data for those who come and make the purchase. We apply a t-test to see if the the averages of them differ significantly. We can use a threshold of 5% to reject the null hypothesis that there will be no difference in clients' preferences.\n",
    "\n",
    "Because we are wainting for the clients to respond, the time parameter can impact our result. We can give a two week time for the first test to be fruitful.\n",
    "\n",
    "After this, if the p-value is low enough, we can roll the rest of the text messages to our clients. We are going to monitor how many clients come and make the purchase and which one are test and which are from control group. We then apply again the t-test to see if the result is pertinent.\n",
    "\n",
    "We have to make sure that the numbers we are sending the SMSs are correct. Thus we pay a tax to the phone company to check their validity. We don't want to enter the trap of fake numbers that could dilute our numbers.\n",
    "\n",
    "It is also a good idea to check the competition to see if they have a similar campaign on a product that heals the same simptoms in order to minimize the bias toward collision with other events.\n",
    "\n",
    "Because sending text messages takes a while to complete we have to find out what is the average sending time per SMS. Then, we have compute how many hours will the sending take. If it is going to take more than 8 hours we have to split the numbers into a few groups. Also, the time of day will matter as the client who receives the SMS should be at the perfect hour to be able to pay attention to our adverisment. Some clients could be at work and we should send them the message either around noon, at lunch break, or arounf 17 o'clock. Other clients could be a retired worker and the morning is a good time to hit as they prepare to leave their home for easy activities. The SMS should not be received latter than 19 o'clock as we don't want to interfere with family time or sleeping time. All this assumptions are made for the case we have quite detailed information about our clients.\n",
    "\n",
    "At the end of the campaign it would be a success to see a higher number of units being sold as before. We would know with a good percentage of certainty what was the impact to Net_Profit among other normal sales from the same product."
   ]
  },
  {
   "cell_type": "code",
   "execution_count": null,
   "metadata": {},
   "outputs": [],
   "source": []
  }
 ],
 "metadata": {
  "anaconda-cloud": {},
  "kernelspec": {
   "display_name": "Python [conda root]",
   "language": "python",
   "name": "conda-root-py"
  },
  "language_info": {
   "codemirror_mode": {
    "name": "ipython",
    "version": 3
   },
   "file_extension": ".py",
   "mimetype": "text/x-python",
   "name": "python",
   "nbconvert_exporter": "python",
   "pygments_lexer": "ipython3",
   "version": "3.5.4"
  },
  "latex_envs": {
   "LaTeX_envs_menu_present": true,
   "autocomplete": true,
   "bibliofile": "biblio.bib",
   "cite_by": "apalike",
   "current_citInitial": 1,
   "eqLabelWithNumbers": true,
   "eqNumInitial": 1,
   "hotkeys": {
    "equation": "Ctrl-E",
    "itemize": "Ctrl-I"
   },
   "labels_anchors": false,
   "latex_user_defs": false,
   "report_style_numbering": false,
   "user_envs_cfg": false
  }
 },
 "nbformat": 4,
 "nbformat_minor": 2
}
