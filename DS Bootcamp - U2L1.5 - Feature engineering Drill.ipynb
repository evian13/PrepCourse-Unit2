{
 "cells": [
  {
   "cell_type": "markdown",
   "metadata": {},
   "source": [
    "### TLADS Drill\n",
    "Categorize each of the variables in the ESS dataset as categorical or continuous, and if continuous as ordinal, interval, or ratio variables. Check your work with your mentor, and discuss what that information might imply for feature engineering with this data."
   ]
  },
  {
   "cell_type": "code",
   "execution_count": null,
   "metadata": {},
   "outputs": [],
   "source": []
  },
  {
   "cell_type": "markdown",
   "metadata": {},
   "source": [
    "Thinking Like a Data Scientist\n",
    "\n",
    "While a programmer thinks in terms of strings, ints, and floats, a data scientist sees variables as:\n",
    "- categorical (also called nominal) or \n",
    "- continuous, and within the continuous group subdivided into:\n",
    "    - ordinal, \n",
    "    - interval, and \n",
    "    - ratio.\n",
    "\n"
   ]
  },
  {
   "cell_type": "markdown",
   "metadata": {},
   "source": [
    "       Name\tLabel\n",
    "       cntry\tCountry  > categorical\n",
    "       year\tESS round  > categorical\n",
    "       idno\tRespondent's identification number > categorical\n",
    "       tvtot\tTV watching, total time on average weekday > categorical\n",
    "       ppltrst\tMost people can be trusted or you can't be too careful > categorical\n",
    "       pplfair\tMost people try to take advantage of you, or try to be fair > categorical\n",
    "       pplhlp\tMost of the time people helpful or mostly looking out for themselves > categorical\n",
    "       happy\tHow happy are you > categorical\n",
    "       sclmeet\tHow often socially meet with friends, relatives or colleagues > categorical\n",
    "       sclact\tTake part in social activities compared to others of same age > categorical\n",
    "       gndr\tGender > categorical\n",
    "       agea\tAge of respondent, calculated > continuous-ordinal\n",
    "       partner\tLives with husband/wife/partner at household grid > categorical\n"
   ]
  },
  {
   "cell_type": "code",
   "execution_count": null,
   "metadata": {},
   "outputs": [],
   "source": []
  }
 ],
 "metadata": {
  "anaconda-cloud": {},
  "kernelspec": {
   "display_name": "Python [conda root]",
   "language": "python",
   "name": "conda-root-py"
  },
  "language_info": {
   "codemirror_mode": {
    "name": "ipython",
    "version": 3
   },
   "file_extension": ".py",
   "mimetype": "text/x-python",
   "name": "python",
   "nbconvert_exporter": "python",
   "pygments_lexer": "ipython3",
   "version": "3.5.4"
  },
  "latex_envs": {
   "LaTeX_envs_menu_present": true,
   "autocomplete": true,
   "bibliofile": "biblio.bib",
   "cite_by": "apalike",
   "current_citInitial": 1,
   "eqLabelWithNumbers": true,
   "eqNumInitial": 1,
   "hotkeys": {
    "equation": "Ctrl-E",
    "itemize": "Ctrl-I"
   },
   "labels_anchors": false,
   "latex_user_defs": false,
   "report_style_numbering": false,
   "user_envs_cfg": false
  }
 },
 "nbformat": 4,
 "nbformat_minor": 2
}
