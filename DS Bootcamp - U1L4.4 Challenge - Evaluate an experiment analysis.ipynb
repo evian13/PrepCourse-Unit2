{
 "cells": [
  {
   "cell_type": "markdown",
   "metadata": {},
   "source": [
    "### U1L4.4 Challenge: Evaluate an experiment analysis\n",
    "\n",
    "Now it's time to flex your critical evaluation skills. Read the following descriptions of an experiment and its analysis, identify the flaws in each, and describe what you would do to correct them."
   ]
  },
  {
   "cell_type": "markdown",
   "metadata": {},
   "source": [
    "### 1.\n",
    "The Sith Lords are concerned that their recruiting slogan, \"Give In to Your Anger,\" isn't very effective. Darth Vader develops an alternative slogan, \"Together We Can Rule the Galaxy.\" They compare the slogans on two groups of 50 captured droids each. In one group, Emperor Palpatine delivers the \"Anger\" slogan. In the other, Darth Vader presents the \"Together\" slogan. 20 droids convert to the Dark Side after hearing Palpatine's slogan, while only 5 droids convert after hearing Vader's. The Sith's data scientist concludes that \"Anger\" is a more effective slogan and should continue to be used.\n",
    "\n"
   ]
  },
  {
   "cell_type": "markdown",
   "metadata": {},
   "source": [
    "### RE:\n",
    "\n",
    "First we have to analyze the two samples of 50 each. This is the most important step. Even if there seems to be a random sample we should investigate.\n",
    "\n",
    "If the groups are not similar there will be bias in assignement conditions: some members could be injured droids that are not so willing to engage in killing tasks anymore. There should be conducted a thourough evaluation to see if the droids are similar in the two samples.\n",
    "\n",
    "Second, the message is deliver by two different characters. Here is strongly contextual bias because droids could be afraid of the Vader's tone/presence. Also if the droids have suffered during the capture phase they could have their souls filled with anger and the \"together\" slogan does not reverberate.\n",
    "\n",
    "The slogan should be delivered by a neutral/unknown person for the test to not be biased by the observer.\n",
    "\n",
    "Also we should check if the slogan deliveredby Palpatine was done without any threats because he has a hidden desire to become the leader and this vote could bring him an advantage at the Sith Lords' gathering.\n",
    "\n",
    "We could run a A/A test on each sample to see if the droids' conviction is solid."
   ]
  },
  {
   "cell_type": "code",
   "execution_count": null,
   "metadata": {},
   "outputs": [],
   "source": []
  },
  {
   "cell_type": "markdown",
   "metadata": {},
   "source": [
    "### 2.\n",
    "In the past, the Jedi have had difficulty with public relations. They send two envoys, Jar Jar Binks and Mace Windu, to four friendly and four unfriendly planets respectively, with the goal of promoting favorable feelings toward the Jedi. Upon their return, the envoys learn that Jar Jar was much more effective than Windu: Over 75% of the people surveyed said their attitudes had become more favorable after speaking with Jar Jar, while only 65% said their attitudes had become more favorable after speaking with Windu. This makes Windu angry, because he is sure that he had a better success rate than Jar Jar on every planet. The Jedi choose Jar Jar to be their representative in the future."
   ]
  },
  {
   "cell_type": "markdown",
   "metadata": {},
   "source": [
    "### Re:\n",
    "We may have a case of Simpson's paradox: perhaps Windu knows the absolute values about how many inhabitants each planet have and how many voted favourably for each planet. Maybe Windu was sent to the planets with lower populations where he managed to have a higher percentage of friendliness. But beacouse Jar Jar had planets with a larger population, the percentage per planet was relatively smaller, but overall he won.\n",
    "\n",
    "The planet allocation could suffer also from bias in assignement to conditions. There is nothing mentioned about the criteria those planets were distributed.We don't know how are the individuals distributed demographically.\n",
    "\n",
    "Maybe there should've been made a test on samples from each population to see which candidate has better peruasion rates.\n"
   ]
  },
  {
   "cell_type": "code",
   "execution_count": null,
   "metadata": {},
   "outputs": [],
   "source": []
  },
  {
   "cell_type": "markdown",
   "metadata": {},
   "source": [
    "### 3.\n",
    "\n",
    "A company with work sites in five different countries has sent you data on employee satisfaction rates for workers in Human Resources and workers in Information Technology. Most HR workers are concentrated in three of the countries, while IT workers are equally distributed across worksites. The company requests a report on satisfaction for each job type. You calculate average job satisfaction for HR and for IT and present the report."
   ]
  },
  {
   "cell_type": "markdown",
   "metadata": {},
   "source": [
    "### Re:\n",
    "If we calculate the average percentage for HR and IT department globally there could be a situation, but taken individually, per country, could be other. Due to the fact that HR people are not evenly distributed, it can add to their advantage.\n",
    "\n",
    "Also, HR people are usually much fewer than ITs. We may find that per country, HR ahs bigger percentage results, but overall smaller.\n",
    "\n",
    "When presenting the numbers we should put light over these two situations and let the management decide wich percentage would like to take into consideration. If they want to think globally, with only one number, than there is a risk of skewness.\n"
   ]
  },
  {
   "cell_type": "markdown",
   "metadata": {},
   "source": [
    "### 4.\n",
    "When people install the Happy Days Fitness Tracker app, they are asked to \"opt in\" to a data collection scheme where their level of physical activity data is automatically sent to the company for product research purposes. During your interview with the company, they tell you that the app is very effective because after installing the app, the data show that people's activity levels rise steadily."
   ]
  },
  {
   "cell_type": "markdown",
   "metadata": {},
   "source": [
    "### Re:\n",
    "\n",
    "We would like to know, first, for how many days were the subjects tested before drawing the first conclusion. If there are just a few days it makes sense for the people to have some activity due to their living habits.\n",
    "\n",
    "We have to discover what kind of people are in our sample. Maybe we were lucky to have more people that are running every day in the morning.\n",
    "\n",
    "We have to consider what period of the year was the data collected. If it was at the end of winter and beginning of spring there is a natural increase in activity due to the fact people are staying more outside, either walking or running.\n",
    "\n",
    "If the app could differentiate between running and walking we could have a finer analysis.\n",
    "\n",
    "If we blindly take an average of hours per day over a month period we could level off the information gathered if we could split the individuals on categories and do the time comparison."
   ]
  },
  {
   "cell_type": "markdown",
   "metadata": {},
   "source": [
    "### 5.\n",
    "To prevent cheating, a teacher writes three versions of a test. She stacks the three versions together, first all copies of Version A, then all copies of Version B, then all copies of Version C. As students arrive for the exam, each student takes a test. When grading the test, the teacher finds that students who took Version B scored higher than students who took either Version A or Version C. She concludes from this that Version B is easier, and discards it."
   ]
  },
  {
   "cell_type": "markdown",
   "metadata": {},
   "source": [
    "Here are many possibilities.\n",
    "\n",
    "The techer drafts three different tests and compares them without a proper sampling. Here the bias is in assignement conditions.\n",
    "When the students are picking the test we don't know if the teacher called them alphabetically, which might be a better way of randomization, or he let the come as they did. For the second case there could be selection bias as we know that usually students group by learning aptitudes: the ones that study more group together, the ones who are involved in sports and maybe don't alocate as much time to study as others group together .\n",
    "\n",
    "We observe that we don't know the number of students, nor the number of each test: perhaps the teacher splitted the number of students by three and made the same number of copies, or maybe he made more copies. We know that there are at least the same number of tests as the number of students. If the teacher drafted more tests than students it means that from C test were taken from the pile less tests, so the sample of C could be very small. \n",
    "\n",
    "We don't know how the teacher assumes that stundents from test B scored higher? Did he take the average of grades in B tests or the median? Are there an equal number of B tests or higher? Let's assume there are 2 good students that got a high grade to test B. Because the percentage is huge, this test is discarded wich makes the Simpson's paradox keep living. "
   ]
  }
 ],
 "metadata": {
  "anaconda-cloud": {},
  "kernelspec": {
   "display_name": "Python [conda root]",
   "language": "python",
   "name": "conda-root-py"
  },
  "language_info": {
   "codemirror_mode": {
    "name": "ipython",
    "version": 3
   },
   "file_extension": ".py",
   "mimetype": "text/x-python",
   "name": "python",
   "nbconvert_exporter": "python",
   "pygments_lexer": "ipython3",
   "version": "3.5.4"
  },
  "latex_envs": {
   "LaTeX_envs_menu_present": true,
   "autocomplete": true,
   "bibliofile": "biblio.bib",
   "cite_by": "apalike",
   "current_citInitial": 1,
   "eqLabelWithNumbers": true,
   "eqNumInitial": 1,
   "hotkeys": {
    "equation": "Ctrl-E",
    "itemize": "Ctrl-I"
   },
   "labels_anchors": false,
   "latex_user_defs": false,
   "report_style_numbering": false,
   "user_envs_cfg": false
  }
 },
 "nbformat": 4,
 "nbformat_minor": 2
}
