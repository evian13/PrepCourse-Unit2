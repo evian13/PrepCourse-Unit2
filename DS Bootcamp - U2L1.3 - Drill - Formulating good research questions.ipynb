{
 "cells": [
  {
   "cell_type": "markdown",
   "metadata": {},
   "source": [
    "Categorize each of the following research questions as \"good\" or \"bad\", and provide alternative formulations for the bad ones. Save your responses in a document of some kind, submit a link below, and discuss your reasoning with your mentor.\n",
    "\n",
    "1. What is the 1994 rate of juvenile delinquency in the U.S.?\n",
    "       Bad. Alternative: \"What is the rate of juvenile delinquency in the U.S. in 1994?\"\n",
    "* What can we do to reduce juvenile delinquency in the U.S.?\n",
    "       Bad. The question is too general and has a miriad of explanations.\n",
    "* Does education play a role in reducing juvenile delinquents' return to crime?\n",
    "       Good.\n",
    "* How many customers does AT&T currently serve in Washington, DC?\n",
    "       Bad. We can only find an estimate from compani's previous press release papers.\n",
    "* What factors lead consumers to choose AT&T over other service providers?\n",
    "       Good\n",
    "* How can AT&T attract more customers?\n",
    "       Good\n",
    "* Why did the Challenger Shuttle explode?\n",
    "       Bad. This is not a question for a data scientist.\n",
    "* Which genes are associated with increased risk of breast cancer?\n",
    "       Bad. This is not a question for a data scientist.\n",
    "* Is it better to read to children at night or in the morning?\n",
    "       Good\n",
    "* How does Google’s search algorithm work?\n",
    "       We do not have access to such information. On the internet are articles about the subject which may be speculative.\n",
    "       "
   ]
  },
  {
   "cell_type": "code",
   "execution_count": null,
   "metadata": {},
   "outputs": [],
   "source": []
  },
  {
   "cell_type": "markdown",
   "metadata": {},
   "source": [
    "As a data scientist, you may be provided with a research question to answer, and your job will be to translate it into a statistical model. But that isn't always the case. Defining your own research question is a more involved process, and there are many questions you'll want to ask yourself as you go about that process, such as:\n",
    "\n",
    "* <i>What is already known about this topic?</i> Unless your goal is simply to learn a new statistical method and the research question itself is irrelevant, there's no point in reinventing the wheel.\n",
    "* <i>What sort of data, or ways to collect data, are available to me on this topic?</i> A research question without relevant data is simply speculation.\n",
    "* <i>What skills do I have?</i> A research question should be addressable using the statistical and programming skills you have now, or can feasibly learn in the time budget you have.\n",
    "* <i>Can this question be answered using quantities or probabilities?</i> Since the plan is to address this research question using a mathematical model, it must be amenable to a numeric solution.\n",
    "* <i>Can this research question be asked in one sentence?</i> If you need more than one sentence to explain what you want to know, your question is probably too broad or too vague to be useful and needs refining."
   ]
  },
  {
   "cell_type": "code",
   "execution_count": null,
   "metadata": {},
   "outputs": [],
   "source": []
  },
  {
   "cell_type": "code",
   "execution_count": null,
   "metadata": {},
   "outputs": [],
   "source": []
  }
 ],
 "metadata": {
  "anaconda-cloud": {},
  "kernelspec": {
   "display_name": "Python [conda root]",
   "language": "python",
   "name": "conda-root-py"
  },
  "language_info": {
   "codemirror_mode": {
    "name": "ipython",
    "version": 3
   },
   "file_extension": ".py",
   "mimetype": "text/x-python",
   "name": "python",
   "nbconvert_exporter": "python",
   "pygments_lexer": "ipython3",
   "version": "3.5.4"
  },
  "latex_envs": {
   "LaTeX_envs_menu_present": true,
   "autocomplete": true,
   "bibliofile": "biblio.bib",
   "cite_by": "apalike",
   "current_citInitial": 1,
   "eqLabelWithNumbers": true,
   "eqNumInitial": 1,
   "hotkeys": {
    "equation": "Ctrl-E",
    "itemize": "Ctrl-I"
   },
   "labels_anchors": false,
   "latex_user_defs": false,
   "report_style_numbering": false,
   "user_envs_cfg": false
  }
 },
 "nbformat": 4,
 "nbformat_minor": 2
}
