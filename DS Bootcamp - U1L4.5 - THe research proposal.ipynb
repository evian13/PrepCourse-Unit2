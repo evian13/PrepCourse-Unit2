{
 "cells": [
  {
   "cell_type": "markdown",
   "metadata": {},
   "source": [
    "### The research proposal\n",
    "\n",
    "1. The problem\n",
    " - <i><u>define</u></i> the question or problem, \n",
    " - <i><u>justify</u></i> why the problem should be studied, and \n",
    " - <i><u>review</u></i> what we already know about the problem\n",
    "2. The potential solution\n",
    " - propose a hypothesis (potential explanation) to be tested\n",
    "3. The method of testing the solution\n",
    " - Describe the design of the experiment, \n",
    " - the analysis plan, and \n",
    " - set benchmarks\n",
    "\n",
    "\n"
   ]
  },
  {
   "cell_type": "markdown",
   "metadata": {},
   "source": [
    "Problem: 4.\n",
    "\n",
    "When people install the Happy Days Fitness Tracker app, they are asked to \"opt in\" to a data collection scheme where their level of physical activity data is automatically sent to the company for product research purposes. During your interview with the company, they tell you that the app is very effective because after installing the app, the data show that people's activity levels rise steadily.\n"
   ]
  },
  {
   "cell_type": "markdown",
   "metadata": {},
   "source": [
    "### 1.The problem\n",
    "1.1. define problem: how to increase the workout time to an average 1 hour per day during each month for non professional sport.\n",
    "Or: users that are buying the app did not increase their workout time to an average of 1 hour per day.\n",
    "\n",
    "1.2. justify why should we find a solution: if people workout more they will be healthier in mind and body. Also, they will tell their friends how good they feel and more people will buy our app to propel themselves on the right path to sport.\n",
    "\n",
    "1.3. we already know that users have increased their level of activity. This information is quite general and is not backed by more details about segmentation."
   ]
  },
  {
   "cell_type": "markdown",
   "metadata": {},
   "source": [
    "### 2.The potential solution\n",
    "\n",
    "For a randomized sample, the users are supposed to enroll in a 6 months plan and our proposal is a 2 months bonus offer if the user manages to exercise at least 30 minutes in 20 days out of 30. The measurement starts from day one for a period of 30 days, and the bonus months are 2rd and 4th.\n",
    "\n",
    "### 3.The method\n",
    "\n",
    "After the first 20 days we analyze which users are running steadily for more than 30 mintes per day. These may be professional runners which are already mentally prepared for endurance. We have to exclude those as they will continue to use the app with or without bonus. We have to concentrate on the beginner/medium level in order to be able to tell if our program made them any lasting change to their habits.\n",
    "\n",
    "After the third month we expect at least 30% from the rest of our sample users to exercise at least 30 minutes per day. If the percent is between 10 and 30 continue for 3 more months. If not, try to find another enrollement program or advertise new features for the app."
   ]
  },
  {
   "cell_type": "code",
   "execution_count": null,
   "metadata": {},
   "outputs": [],
   "source": []
  },
  {
   "cell_type": "code",
   "execution_count": null,
   "metadata": {},
   "outputs": [],
   "source": []
  },
  {
   "cell_type": "code",
   "execution_count": null,
   "metadata": {},
   "outputs": [],
   "source": []
  },
  {
   "cell_type": "code",
   "execution_count": null,
   "metadata": {},
   "outputs": [],
   "source": []
  }
 ],
 "metadata": {
  "anaconda-cloud": {},
  "kernelspec": {
   "display_name": "Python [conda root]",
   "language": "python",
   "name": "conda-root-py"
  },
  "language_info": {
   "codemirror_mode": {
    "name": "ipython",
    "version": 3
   },
   "file_extension": ".py",
   "mimetype": "text/x-python",
   "name": "python",
   "nbconvert_exporter": "python",
   "pygments_lexer": "ipython3",
   "version": "3.5.4"
  },
  "latex_envs": {
   "LaTeX_envs_menu_present": true,
   "autocomplete": true,
   "bibliofile": "biblio.bib",
   "cite_by": "apalike",
   "current_citInitial": 1,
   "eqLabelWithNumbers": true,
   "eqNumInitial": 1,
   "hotkeys": {
    "equation": "Ctrl-E",
    "itemize": "Ctrl-I"
   },
   "labels_anchors": false,
   "latex_user_defs": false,
   "report_style_numbering": false,
   "user_envs_cfg": false
  }
 },
 "nbformat": 4,
 "nbformat_minor": 2
}
