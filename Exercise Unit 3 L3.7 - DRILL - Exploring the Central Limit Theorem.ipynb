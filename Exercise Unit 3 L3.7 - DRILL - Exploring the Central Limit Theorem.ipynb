{
 "cells": [
  {
   "cell_type": "markdown",
   "metadata": {},
   "source": [
    "create two binomially distributed populations with n equal to 10 and size equal to 10000. The p-value of population1 should be 0.2 and the p-value of population2 should be 0.5. Using a sample size of 100, calculate the means and standard deviations of your samples."
   ]
  },
  {
   "cell_type": "code",
   "execution_count": 92,
   "metadata": {
    "collapsed": true
   },
   "outputs": [],
   "source": [
    "import numpy as np\n",
    "import pandas as pd\n",
    "import matplotlib.pyplot as plt\n",
    "%matplotlib inline"
   ]
  },
  {
   "cell_type": "code",
   "execution_count": 93,
   "metadata": {
    "collapsed": false
   },
   "outputs": [
    {
     "name": "stdout",
     "output_type": "stream",
     "text": [
      "mean: 1.9901\n",
      "std: 1.25618549188\n",
      "mean: 5.0128\n",
      "std: 1.58519278323\n"
     ]
    }
   ],
   "source": [
    "# Generate a binomial distribution. \n",
    "# p = the probability of getting k successes during n repetitions of the event\n",
    "np.random.seed(1)\n",
    "population1 = np.random.binomial( n=10,p=0.2, size = 10000 )\n",
    "\n",
    "population2 = np.random.binomial( n=10,p=0.5, size = 10000 )\n",
    "\n",
    "print('mean:',population1.mean())\n",
    "print('std:',population1.std(ddof=0))\n",
    "print('mean:',population2.mean())\n",
    "print('std:',population2.std(ddof=0))"
   ]
  },
  {
   "cell_type": "code",
   "execution_count": 94,
   "metadata": {
    "collapsed": false,
    "scrolled": true
   },
   "outputs": [],
   "source": [
    "np.random.seed(1)\n",
    "s1 = np.random.choice(population1 , size = 100 , replace = False)\n",
    "s2 = np.random.choice(population2 , size = 100 , replace = False)"
   ]
  },
  {
   "cell_type": "code",
   "execution_count": 95,
   "metadata": {
    "collapsed": false
   },
   "outputs": [
    {
     "name": "stdout",
     "output_type": "stream",
     "text": [
      "mean: 1.95\n",
      "std: 1.18638105177\n",
      "mean: 5.12\n",
      "std: 1.49184449592\n"
     ]
    }
   ],
   "source": [
    "print('mean:',s1.mean())\n",
    "print('std:',s1.std())\n",
    "\n",
    "print('mean:',s2.mean())\n",
    "print('std:',s2.std())"
   ]
  },
  {
   "cell_type": "code",
   "execution_count": 96,
   "metadata": {
    "collapsed": false
   },
   "outputs": [
    {
     "data": {
      "image/png": "[encoded data removed]",
      "text/plain": [
       "<matplotlib.figure.Figure at 0x1fa145ddcc0>"
      ]
     },
     "metadata": {},
     "output_type": "display_data"
    }
   ],
   "source": [
    "plt.hist(s1 ,alpha = 0.5 , color = 'c' , label = 's1')\n",
    "plt.hist(s2 ,alpha = 0.5 , color = 'm' , label = 's2')\n",
    "plt.legend(loc='upper right')\n",
    "plt.show()"
   ]
  },
  {
   "cell_type": "code",
   "execution_count": 97,
   "metadata": {
    "collapsed": false,
    "scrolled": true
   },
   "outputs": [
    {
     "name": "stdout",
     "output_type": "stream",
     "text": [
      "3.17\n"
     ]
    }
   ],
   "source": [
    "# Calculate differences in the means:\n",
    "diff_2_1 = s2.mean() - s1.mean()\n",
    "print(diff_2_1)"
   ]
  },
  {
   "cell_type": "code",
   "execution_count": 118,
   "metadata": {
    "collapsed": false
   },
   "outputs": [
    {
     "name": "stdout",
     "output_type": "stream",
     "text": [
      "Ttest_indResult(statistic=16.547720758110582, pvalue=1.43287278789352e-38)\n"
     ]
    }
   ],
   "source": [
    "from scipy.stats import ttest_ind\n",
    "print(ttest_ind(s2, s1, equal_var=False))"
   ]
  },
  {
   "cell_type": "markdown",
   "metadata": {},
   "source": [
    "--------------------------"
   ]
  },
  {
   "cell_type": "markdown",
   "metadata": {},
   "source": [
    "1.Increase the size of your samples from 100 to 1000, then calculate the means and standard deviations for your new samples and create histograms for each. Repeat this again, decreasing the size of your samples to 20. What values change, and what remain the same?"
   ]
  },
  {
   "cell_type": "code",
   "execution_count": 98,
   "metadata": {
    "collapsed": false
   },
   "outputs": [],
   "source": [
    "np.random.seed(1)\n",
    "s3 = np.random.choice( population1, size = 1000 , replace=False )\n",
    "s4 = np.random.choice( population2, size = 1000 , replace=False )"
   ]
  },
  {
   "cell_type": "code",
   "execution_count": 99,
   "metadata": {
    "collapsed": false
   },
   "outputs": [],
   "source": [
    "# create a dataframe with 2 columns: s3 and s4:\n",
    "sample_1000 = pd.DataFrame( {'s3': s3, 's4':s4 } ,columns=['s3','s4'] )\n",
    "# sample"
   ]
  },
  {
   "cell_type": "code",
   "execution_count": 100,
   "metadata": {
    "collapsed": false
   },
   "outputs": [
    {
     "name": "stdout",
     "output_type": "stream",
     "text": [
      "mean: 2.041\n",
      "std: 1.29434114514\n",
      "mean: 4.985\n",
      "std: 1.58391129802\n"
     ]
    }
   ],
   "source": [
    "print('mean:',s3.mean())\n",
    "print('std:',s3.std())\n",
    "print('mean:',s4.mean())\n",
    "print('std:',s4.std())"
   ]
  },
  {
   "cell_type": "code",
   "execution_count": 101,
   "metadata": {
    "collapsed": false,
    "scrolled": true
   },
   "outputs": [
    {
     "data": {
      "image/png": "[encoded data removed]",
      "text/plain": [
       "<matplotlib.figure.Figure at 0x1fa131bf5c0>"
      ]
     },
     "metadata": {},
     "output_type": "display_data"
    }
   ],
   "source": [
    "plt.hist(s3 ,alpha = 0.5 , color = 'c' , label = 's3')\n",
    "plt.hist(s4 ,alpha = 0.5 , color = 'm' , label = 's4')\n",
    "plt.legend(loc='upper right')\n",
    "plt.show()"
   ]
  },
  {
   "cell_type": "code",
   "execution_count": 102,
   "metadata": {
    "collapsed": false
   },
   "outputs": [
    {
     "data": {
      "image/png": "[encoded data removed]",
      "text/plain": [
       "<matplotlib.figure.Figure at 0x1fa1455ff28>"
      ]
     },
     "metadata": {},
     "output_type": "display_data"
    }
   ],
   "source": [
    "# create histograms of the two variables.\n",
    "sample_1000.hist(layout=(1, 2), sharex=True)\n",
    "plt.show()"
   ]
  },
  {
   "cell_type": "code",
   "execution_count": 103,
   "metadata": {
    "collapsed": false
   },
   "outputs": [
    {
     "name": "stdout",
     "output_type": "stream",
     "text": [
      "2.944\n"
     ]
    }
   ],
   "source": [
    "# Calculate differences in the means:\n",
    "diff_4_3 = s4.mean() - s3.mean()\n",
    "print(diff_4_3)"
   ]
  },
  {
   "cell_type": "markdown",
   "metadata": {},
   "source": [
    "------------------"
   ]
  },
  {
   "cell_type": "code",
   "execution_count": 104,
   "metadata": {
    "collapsed": false
   },
   "outputs": [
    {
     "name": "stdout",
     "output_type": "stream",
     "text": [
      "mean: 1.9\n",
      "std: 1.3\n",
      "mean: 4.75\n",
      "std: 1.3738631664\n"
     ]
    }
   ],
   "source": [
    "# decreasa the size of the sample to 20\n",
    "np.random.seed(1)\n",
    "s5 = np.random.choice( population1, size = 20 , replace=False )\n",
    "s6 = np.random.choice( population2, size = 20 , replace=False )\n",
    "\n",
    "print('mean:',s5.mean())\n",
    "print('std:',s5.std())\n",
    "print('mean:',s6.mean())\n",
    "print('std:',s6.std())"
   ]
  },
  {
   "cell_type": "code",
   "execution_count": 105,
   "metadata": {
    "collapsed": false
   },
   "outputs": [
    {
     "name": "stdout",
     "output_type": "stream",
     "text": [
      "2.85\n"
     ]
    }
   ],
   "source": [
    "# Calculate differences in the means:\n",
    "diff_6_5 = s6.mean() - s5.mean()\n",
    "print(diff_6_5)"
   ]
  },
  {
   "cell_type": "code",
   "execution_count": 106,
   "metadata": {
    "collapsed": false
   },
   "outputs": [
    {
     "data": {
      "image/png": "[encoded data removed]",
      "text/plain": [
       "<matplotlib.figure.Figure at 0x1fa1449f550>"
      ]
     },
     "metadata": {},
     "output_type": "display_data"
    }
   ],
   "source": [
    "list_population1 = [population1.mean(),s1.mean(),s3.mean(),s5.mean()] #For population1 (p=0.2) / samples:10k,100,1000,20\n",
    "list_population2 = [population2.mean(),s2.mean(),s4.mean(),s6.mean()] #For population2 (p=0.5) / samples:10k,100,1000,20\n",
    "\n",
    "plt.plot(list_population1)\n",
    "plt.title('How the mean changes for population1 with different samples')\n",
    "plt.show()"
   ]
  },
  {
   "cell_type": "code",
   "execution_count": 107,
   "metadata": {
    "collapsed": false,
    "scrolled": true
   },
   "outputs": [
    {
     "data": {
      "image/png": "[encoded data removed]",
      "text/plain": [
       "<matplotlib.figure.Figure at 0x1fa14490940>"
      ]
     },
     "metadata": {},
     "output_type": "display_data"
    }
   ],
   "source": [
    "plt.plot(list_population2)\n",
    "plt.title('How the mean changes for population2 with different samples')\n",
    "plt.show()"
   ]
  },
  {
   "cell_type": "markdown",
   "metadata": {},
   "source": [
    "Some samples are more skewed and even if you extract a bigger sample it does not mean that your mean gets closer to the population mean."
   ]
  },
  {
   "cell_type": "markdown",
   "metadata": {
    "collapsed": true
   },
   "source": [
    "------------------"
   ]
  },
  {
   "cell_type": "markdown",
   "metadata": {
    "collapsed": true
   },
   "source": [
    "2.Change the probability value (p in the NumPy documentation) for pop1 to 0.3, then take new samples and compute the t-statistic and p-value. Then change the probability value p for group 1 to 0.4, and do it again. What changes, and why?"
   ]
  },
  {
   "cell_type": "code",
   "execution_count": 111,
   "metadata": {
    "collapsed": false
   },
   "outputs": [
    {
     "name": "stdout",
     "output_type": "stream",
     "text": [
      "mean pop1: 2.9895\n",
      "std pop1: 1.4367984375\n"
     ]
    }
   ],
   "source": [
    "# p = the probability of getting k successes during n repetitions of the event\n",
    "# p = 0.3 for pop1\n",
    "np.random.seed(1)\n",
    "population1 = np.random.binomial( n=10,p=0.3, size = 10000 )\n",
    "population2 = np.random.binomial( n=10,p=0.5, size = 10000 )\n",
    "\n",
    "print('mean pop1:',population1.mean())\n",
    "print('std pop1:',population1.std(ddof=0))\n"
   ]
  },
  {
   "cell_type": "code",
   "execution_count": 115,
   "metadata": {
    "collapsed": false
   },
   "outputs": [
    {
     "name": "stdout",
     "output_type": "stream",
     "text": [
      "Ttest_indResult(statistic=6.3967699656096517, pvalue=1.1232869895083174e-09)\n"
     ]
    }
   ],
   "source": [
    "sample1 = np.random.choice(population1, 100, replace=True)\n",
    "sample2 = np.random.choice(population2, 100, replace=True)\n",
    "\n",
    "from scipy.stats import ttest_ind\n",
    "print(ttest_ind(sample2, sample1, equal_var=False))"
   ]
  },
  {
   "cell_type": "code",
   "execution_count": 116,
   "metadata": {
    "collapsed": false
   },
   "outputs": [
    {
     "name": "stdout",
     "output_type": "stream",
     "text": [
      "Ttest_indResult(statistic=5.3286330462204257, pvalue=2.6797806834666642e-07)\n"
     ]
    }
   ],
   "source": [
    "# p = 0.4 for pop1\n",
    "np.random.seed(1)\n",
    "population1 = np.random.binomial( n=10,p=0.4, size = 10000 )\n",
    "population2 = np.random.binomial( n=10,p=0.5, size = 10000 )\n",
    "\n",
    "sample1 = np.random.choice(population1, 100, replace=True)\n",
    "sample2 = np.random.choice(population2, 100, replace=True)\n",
    "\n",
    "from scipy.stats import ttest_ind\n",
    "print(ttest_ind(sample2, sample1, equal_var=False))"
   ]
  },
  {
   "cell_type": "markdown",
   "metadata": {},
   "source": [
    "Random samples taken from a population with binomial distribution where p differs (p= the probability of getting k successes during n repetitions of the event) show that by applying the t-test their means are different and the differences did not occur by chance (a very low p-value less than 5%).\n",
    "\n",
    "Also looking at how t-test varies we can say that as the differences between samples get smaller (p goes from 0.2 to 0.4 which is closer to 0.5) the t-test gets smaller:\n",
    "- the t-test = 16.54 for two samples of 100 items, one with p=0.2 and the other with p=0.5\n",
    "- the t-test =  6.41 for two samples of 100 items, one with p=0.3 and the other with p=0.5\n",
    "- the t-test =  5.33 for two samples of 100 items, one with p=0.4 and the other with p=0.5\n"
   ]
  },
  {
   "cell_type": "markdown",
   "metadata": {},
   "source": [
    "-----------------"
   ]
  },
  {
   "cell_type": "markdown",
   "metadata": {},
   "source": [
    "3.If distributions are not normal we can use Mann-Whitney-Wilcoxon parametric test.\n",
    "\n",
    "However, the Central Limit Theorem comes to the rescue and says that no matter the non-normality of the distributions we take many samples and generate the a sample of the sample means for which we can apply the t-test."
   ]
  }
 ],
 "metadata": {
  "anaconda-cloud": {},
  "kernelspec": {
   "display_name": "Python [conda root]",
   "language": "python",
   "name": "conda-root-py"
  },
  "language_info": {
   "codemirror_mode": {
    "name": "ipython",
    "version": 3
   },
   "file_extension": ".py",
   "mimetype": "text/x-python",
   "name": "python",
   "nbconvert_exporter": "python",
   "pygments_lexer": "ipython3",
   "version": "3.5.2"
  },
  "latex_envs": {
   "LaTeX_envs_menu_present": true,
   "autocomplete": true,
   "bibliofile": "biblio.bib",
   "cite_by": "apalike",
   "current_citInitial": 1,
   "eqLabelWithNumbers": true,
   "eqNumInitial": 1,
   "hotkeys": {
    "equation": "Ctrl-E",
    "itemize": "Ctrl-I"
   },
   "labels_anchors": false,
   "latex_user_defs": false,
   "report_style_numbering": false,
   "user_envs_cfg": false
  }
 },
 "nbformat": 4,
 "nbformat_minor": 1
}
