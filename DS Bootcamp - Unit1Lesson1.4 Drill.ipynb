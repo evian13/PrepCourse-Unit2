{
 "cells": [
  {
   "cell_type": "markdown",
   "metadata": {},
   "source": [
    "1. You work at an e-commerce company that sells three goods: widgets, doodads, and fizzbangs. The head of advertising asks you which they should feature in their new advertising campaign. You have data on individual visitors' sessions (activity on a website, pageviews, and purchases), as well as whether or not those users converted from an advertisement for that session. You also have the cost and price information for the goods."
   ]
  },
  {
   "cell_type": "markdown",
   "metadata": {},
   "source": [
    "<b>Answer:</b>\n",
    "\n",
    "From the information related to \"activity on a website\" we can see which of the three goods were clicked the most and which were searched the most. \n",
    "\n",
    "We can also see how many clients bought a certain good. We can devide sales over clicks and see what is the turnover. The closest to 1, the better. \n",
    "\n",
    "We can see how many clients clicked on advertisments and bought. Likewise, the closest to 1, the higher efficiency of the commercial. \n",
    "\n",
    "However, for each product we must see how much profit we are making. If the top 1 product is giving back the least profit we must try to see if we could cut costs: production, transportation etc. \n",
    "\n",
    "If the first product in sales is giving us the best profit per sales ratio we could make a new marketing campaign to increase the clients' awareness. \n",
    "\n"
   ]
  },
  {
   "cell_type": "markdown",
   "metadata": {},
   "source": [
    "2.You work at a web design company that offers to build websites for clients. Signups have slowed, and you are tasked with finding out why. The onboarding funnel has three steps: email and password signup, plan choice, and payment. On a user level you have information on what steps they have completed as well as timestamps for all of those events for the past 3 years. You also have information on marketing spend on a weekly level."
   ]
  },
  {
   "cell_type": "markdown",
   "metadata": {},
   "source": [
    "<b>Answer:</b>\n",
    "\n",
    "First we have to see if the signup steps are easy to complete or not. We are going to measure the average time spent on each of the three steps to see which one is the longest and by how long. We should compare that result with 2-3 tests made on our own. If the average time is far from our tested times it means something is going on at client level that he does not clearly understand and he is not able to pass easily. Also the median time could be helpful just in case there isn't some users that are doing some other activities while filling in the data, which could skew the average.\n",
    "\n",
    "We also can see how many visitors clicked the sign-up button.\n",
    "Then, we should see how many of the users that clicked the signup button actually finished the three step process. What is the percenatage of the users that complete the first step and signed up? And so on. If the percent decreases with each step it means something is making the user to not finish. Maybe there are some complicated questions which the user doesn't want or doesn't know how to answer. Or maybe there is a bug in the process that no one reported.\n",
    "\n",
    "The marketing spending is important to see if it had any impact in the number of new visitors and on the number of users that clicked the signup button. If the number of users increased when the marketing ad was launched it means that it was well targeted. If the number of signup users is low it means the information from the website was not convincing or that the process is cumbersome and should be revised.\n",
    "\n",
    "If the number of users did not increased or it was mild, then the markting campaign should be analyzed."
   ]
  },
  {
   "cell_type": "markdown",
   "metadata": {},
   "source": [
    "3.You work at a hotel website and currently the website ranks search results by price. For simplicity's sake, let's say it's a website for one city with 100 hotels. You are tasked with proposing a better ranking system. You have session information, price information for the hotels, and whether each hotel is currently available."
   ]
  },
  {
   "cell_type": "markdown",
   "metadata": {},
   "source": [
    "<b>Answer:</b>\n",
    "\n",
    "We could make a filter where the user can choose the way which the results will be displayed: \n",
    "- by price ascending/des, \n",
    "- by number of stars asc/desc, \n",
    "- by number of reviews\n",
    "- by the grade of the hotel given by each user\n",
    "\n",
    "We could show the users only the available hotels during the period they searched for.\n",
    "We could also make a special configuration that shows two hotels that are not available but with a good rating at each 8 available hotels. With this we could increase the awerness of the user about the other hotels and maybe he will switch his period only to book that hotel.\n"
   ]
  },
  {
   "cell_type": "markdown",
   "metadata": {},
   "source": [
    "4.You work at a social network, and the management is worried about churn (users stopping using the product). You are tasked with finding out if their churn is atypical. You have three years of data for users with an entry for every time they've logged in, including the timestamp and length of session."
   ]
  },
  {
   "cell_type": "markdown",
   "metadata": {},
   "source": [
    "We know that the application is gathering users to interact with each other on different interests. When they open the application they are being logged in automatically. As with any application if it is not used after a short period of time the connection drops or the screen closes. We can measure the average time an user spends using the product during a day.\n",
    "We can plot a chart with the daily time usage to see if there is any pattern. If the line is going down to the right of screen it means the time spent using the product decreases which is not a good thing. We should create a short questionaire to discover what is going on.\n",
    "\n",
    "We could also see that there are some months when the application usage falls and then recovers. We must try to find out why."
   ]
  },
  {
   "cell_type": "markdown",
   "metadata": {},
   "source": []
  },
  {
   "cell_type": "markdown",
   "metadata": {},
   "source": []
  }
 ],
 "metadata": {
  "anaconda-cloud": {},
  "kernelspec": {
   "display_name": "Python [conda root]",
   "language": "python",
   "name": "conda-root-py"
  },
  "language_info": {
   "codemirror_mode": {
    "name": "ipython",
    "version": 3
   },
   "file_extension": ".py",
   "mimetype": "text/x-python",
   "name": "python",
   "nbconvert_exporter": "python",
   "pygments_lexer": "ipython3",
   "version": "3.5.4"
  },
  "latex_envs": {
   "LaTeX_envs_menu_present": true,
   "autocomplete": true,
   "bibliofile": "biblio.bib",
   "cite_by": "apalike",
   "current_citInitial": 1,
   "eqLabelWithNumbers": true,
   "eqNumInitial": 1,
   "hotkeys": {
    "equation": "Ctrl-E",
    "itemize": "Ctrl-I"
   },
   "labels_anchors": false,
   "latex_user_defs": false,
   "report_style_numbering": false,
   "user_envs_cfg": false
  }
 },
 "nbformat": 4,
 "nbformat_minor": 2
}
